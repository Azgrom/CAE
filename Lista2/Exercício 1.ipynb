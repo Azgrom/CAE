{
 "cells": [
  {
   "cell_type": "markdown",
   "metadata": {},
   "source": [
    "# Exercício 1\n",
    "\n",
    "**Aluno:** Rafael Lúcio Negrão Cordeiro<br/>\n",
    "**Matrícula:** 201310323<br/>\n",
    "**Disciplina:** CET961 - Engenharia Assistida por Computador"
   ]
  },
  {
   "cell_type": "code",
   "execution_count": 3,
   "metadata": {},
   "outputs": [],
   "source": [
    "import numpy as np\n",
    "\n",
    "d = 0.25 # diametro, em cm\n",
    "E = 3e7  # N / cm²\n",
    "\n",
    "A = np.pi * (d / 2) ** 2 # cm²\n",
    "\n",
    "hooke = lambda E, A, L: E * A / L # Lei de Hooke\n",
    "\n",
    "L1 = 9 # cm\n",
    "L2 = 12 # cm\n",
    "L3 = np.sqrt((L1 ** 2) + (L2 ** 2)) # cm\n",
    "\n",
    "con1 = (1, 3)\n",
    "con2 = (1, 2)\n",
    "con3 = (2, 3)\n",
    "\n",
    "alpha = np.array([np.arccos(L2 / L3), np.arccos(1), np.arccos(0)]) # Graus em radianos\n",
    "\n",
    "F = 50 # N\n",
    "Fx = F * np.cos(alpha[0])\n",
    "Fy = F * np.sin(alpha[0])"
   ]
  },
  {
   "cell_type": "markdown",
   "metadata": {},
   "source": [
    "#### Compondo o sistema na notaçao matricial $[K_{i}^{(g)}]\\{U_{i}^{(g)}\\} = \\{F_{i}^{(g)}\\}$, temos:\n",
    "\n",
    "$$\n",
    "\\begin{split}\n",
    "    \\overbrace{\n",
    "        \\begin{bmatrix}\n",
    "            k_{1 x 1 (i)} & k_{1 x 2 (i)} & k_{1 x 3 (i)} & k_{1 x 4 (i)}\\\\\n",
    "            k_{2 x 1 (i)} & k_{2 x 2 (i)} & k_{2 x 3 (i)} & k_{2 x 4 (i)}\\\\\n",
    "            k_{3 x 1 (i)} & k_{3 x 2 (i)} & k_{3 x 3 (i)} & k_{3 x 4 (i)}\\\\\n",
    "            k_{4 x 1 (i)} & k_{4 x 2 (i)} & k_{4 x 3 (i)} & k_{4 x 4 (i)}\n",
    "        \\end{bmatrix}\n",
    "    }^{[K^{(g)}_i]}\n",
    "    \\overbrace{\n",
    "        \\begin{Bmatrix}\n",
    "            u_{iX}^E\\\\\n",
    "            u_{iY}^E\\\\\n",
    "            u_{iX}^D\\\\\n",
    "            u_{iY}^D\n",
    "        \\end{Bmatrix}\n",
    "    }^{\\{U^{(g)}_i\\}}\n",
    "    =\n",
    "    \\overbrace{\n",
    "        \\begin{Bmatrix}\n",
    "            F_{iX}^{E}\\\\\n",
    "            F_{iY}^{E}\\\\\n",
    "            F_{iX}^{D}\\\\\n",
    "            F_{iY}^{D}\n",
    "        \\end{Bmatrix}\n",
    "    }^{\\{F^{(g)}_i\\}}\\\\\n",
    "    \\overbrace{\n",
    "        \\frac{E_iA_i}{L_i}\n",
    "        \\begin{bmatrix}\n",
    "            \\cos^2\\alpha_i & \\cos\\alpha_i\\sin\\alpha_i & -\\cos^2\\alpha_i & -\\cos\\alpha_i\\sin\\alpha_i\\\\\n",
    "            \\cos\\alpha_i\\sin\\alpha_i & \\sin^2\\alpha_i & -\\cos\\alpha_i\\sin\\alpha_i & -\\sin^2\\alpha_i\\\\\n",
    "            -\\cos^2\\alpha_i & -\\cos\\alpha_i\\sin\\alpha_i & \\cos^2\\alpha_i & \\cos\\alpha_i\\sin\\alpha_i\\\\\n",
    "            -\\cos\\alpha_i\\sin\\alpha_i & -\\sin^2\\alpha_i & \\cos\\alpha_i\\sin\\alpha_i & \\sin^2\\alpha_i\n",
    "        \\end{bmatrix}\n",
    "    }^{[K^{(g)}_i]}\n",
    "    \\overbrace{\n",
    "        \\begin{bmatrix}\n",
    "            \\cos\\alpha_i & 0\\\\\n",
    "            \\sin\\alpha_i & 0\\\\\n",
    "            0 & \\cos\\alpha_i\\\\\n",
    "            0 & \\sin\\alpha_i\n",
    "        \\end{bmatrix}\n",
    "        \\begin{Bmatrix}\n",
    "            u_{iX}^E\\\\\n",
    "            u_{iX}^D\n",
    "        \\end{Bmatrix}\n",
    "    }^{\\{U^{(g)}_i\\}}=\n",
    "    \\overbrace{\n",
    "        \\begin{bmatrix}\n",
    "            \\cos\\alpha_i & 0\\\\\n",
    "            \\sin\\alpha_i & 0\\\\\n",
    "            0 & \\cos\\alpha_i\\\\\n",
    "            0 & \\sin\\alpha_i\n",
    "        \\end{bmatrix}\n",
    "        \\begin{Bmatrix}\n",
    "            F_{iX}^E\\\\\n",
    "            F_{iX}^D\n",
    "        \\end{Bmatrix}\n",
    "    }^{\\{F^{(g)}_i\\}}\n",
    "\\end{split}\n",
    "$$"
   ]
  },
  {
   "cell_type": "markdown",
   "metadata": {},
   "source": [
    "$$\n",
    "\\overbrace{\n",
    "    \\frac{E_iA_i}{L_i}\n",
    "    \\begin{bmatrix}\n",
    "        \\cos^3\\alpha_i + \\cos\\alpha_i\\sin^2\\alpha_i & -\\cos^3\\alpha_i - \\cos\\alpha_i\\sin^2\\alpha_i\\\\\n",
    "        \\cos^2\\alpha_i\\sin\\alpha_i + \\sin^3\\alpha_i & -\\cos^2\\alpha_i\\sin\\alpha_i - \\sin^3\\alpha_i\\\\\n",
    "        -\\cos^3\\alpha_i - \\cos\\alpha_i\\sin^2\\alpha_i & \\cos^3\\alpha_i + \\cos\\alpha_i\\sin^2\\alpha_i\\\\\n",
    "        -\\cos^2\\alpha_i\\sin\\alpha_i - \\sin^3\\alpha_i & \\cos^2\\alpha_i\\sin\\alpha_i + \\sin^3\\alpha_i\n",
    "    \\end{bmatrix}\n",
    "    \\begin{Bmatrix}\n",
    "        u_{iX}^E\\\\\n",
    "        u_{iX}^D\n",
    "    \\end{Bmatrix}\n",
    "}^{\\{K^{(g)}_i\\}\\{U^{(g)}_i\\}}\n",
    "=\n",
    "\\overbrace{\n",
    "        \\begin{bmatrix}\n",
    "            \\cos\\alpha_i & 0\\\\\n",
    "            \\sin\\alpha_i & 0\\\\\n",
    "            0 & \\cos\\alpha_i\\\\\n",
    "            0 & \\sin\\alpha_i\n",
    "        \\end{bmatrix}\n",
    "        \\begin{Bmatrix}\n",
    "            F_{iX}^E\\\\\n",
    "            F_{iX}^D\n",
    "        \\end{Bmatrix}\n",
    "}^{\\{F^{(g)}_i\\}}\n",
    "$$"
   ]
  },
  {
   "cell_type": "markdown",
   "metadata": {},
   "source": [
    "Representando em forma de sistema, temos:\n",
    "\n",
    "$$\n",
    "\\begin{equation}\n",
    "    \\frac{E_iA_i}{L_i}\n",
    "    x\n",
    "    \\begin{cases}\n",
    "        (\\cos^3\\alpha_i + \\cos\\alpha_i\\sin^2\\alpha_i)u_{iX}^E - (\\cos^3\\alpha_i + \\cos\\alpha_i\\sin^2\\alpha_i)u_{iX}^D = \\cos\\alpha_iF_{iX}^E + 0F_{iX}^D\\\\\n",
    "        (\\cos^2\\alpha_i\\sin\\alpha_i + \\sin^3\\alpha_i)u_{iX}^E - (\\cos^2\\alpha_i\\sin\\alpha_i + \\sin^3\\alpha_i)u_{iX}^D = \\sin\\alpha_iF_{iX}^E + 0F_{iX}^D\\\\\n",
    "        -(\\cos^3\\alpha_i + \\cos\\alpha_i\\sin^2\\alpha_i)u_{iX}^E + (\\cos^3\\alpha_i + \\cos\\alpha_i\\sin^2\\alpha_i)u_{iX}^D = 0F_{iX}^E + \\cos\\alpha_iF_{iX}^D\\\\\n",
    "        -(\\cos^2\\alpha_i\\sin\\alpha_i + \\sin^3\\alpha_i)u_{iX}^E + (\\cos^2\\alpha_i\\sin\\alpha_i + \\sin^3\\alpha_i)u_{iX}^D = 0F_{iX}^E + \\sin\\alpha_iF_{iX}^D\n",
    "    \\end{cases}\n",
    "    \\Rightarrow\n",
    "    \\begin{cases}\n",
    "        \\frac{E_iA_i}{L_i}((\\cos^3\\alpha_i + \\cos\\alpha_i\\sin^2\\alpha_i)u_{iX}^E - (\\cos^3\\alpha_i + \\cos\\alpha_i\\sin^2\\alpha_i)u_{iX}^D)) = \\cos\\alpha_iF_{iX}^E + 0F_{iX}^D\\\\\n",
    "        \\frac{E_iA_i}{L_i}((\\cos^2\\alpha_i\\sin\\alpha_i + \\sin^3\\alpha_i)u_{iX}^E - (\\cos^2\\alpha_i\\sin\\alpha_i + \\sin^3\\alpha_i)u_{iX}^D)) = \\sin\\alpha_iF_{iX}^E + 0F_{iX}^D\\\\\n",
    "        \\frac{E_iA_i}{L_i}(-(\\cos^3\\alpha_i + \\cos\\alpha_i\\sin^2\\alpha_i)u_{iX}^E + (\\cos^3\\alpha_i + \\cos\\alpha_i\\sin^2\\alpha_i)u_{iX}^D) = 0F_{iX}^E + \\cos\\alpha_iF_{iX}^D\\\\\n",
    "        \\frac{E_iA_i}{L_i}(-(\\cos^2\\alpha_i\\sin\\alpha_i + \\sin^3\\alpha_i)u_{iX}^E + (\\cos^2\\alpha_i\\sin\\alpha_i + \\sin^3\\alpha_i)u_{iX}^D) = 0F_{iX}^E + \\sin\\alpha_iF_{iX}^D\n",
    "    \\end{cases}\\\\\n",
    "    \\begin{cases}\n",
    "        \\frac{E_iA_i}{L_i}((\\cos^3\\alpha_i + \\cos\\alpha_i\\sin^2\\alpha_i)u_{iX}^E - (\\cos^3\\alpha_i + \\cos\\alpha_i\\sin^2\\alpha_i)u_{iX}^D)) - (\\cos\\alpha_iF_{iX}^E + 0F_{iX}^D) = 0\\\\\n",
    "        \\frac{E_iA_i}{L_i}((\\cos^2\\alpha_i\\sin\\alpha_i + \\sin^3\\alpha_i)u_{iX}^E - (\\cos^2\\alpha_i\\sin\\alpha_i + \\sin^3\\alpha_i)u_{iX}^D)) - (\\sin\\alpha_iF_{iX}^E + 0F_{iX}^D) = 0\\\\\n",
    "        \\frac{E_iA_i}{L_i}(-(\\cos^3\\alpha_i + \\cos\\alpha_i\\sin^2\\alpha_i)u_{iX}^E + (\\cos^3\\alpha_i + \\cos\\alpha_i\\sin^2\\alpha_i)u_{iX}^D) - (0F_{iX}^E + \\cos\\alpha_iF_{iX}^D) = 0\\\\\n",
    "        \\frac{E_iA_i}{L_i}(-(\\cos^2\\alpha_i\\sin\\alpha_i + \\sin^3\\alpha_i)u_{iX}^E + (\\cos^2\\alpha_i\\sin\\alpha_i + \\sin^3\\alpha_i)u_{iX}^D) - (0F_{iX}^E + \\sin\\alpha_iF_{iX}^D) = 0\n",
    "    \\end{cases}\n",
    "\\end{equation}\n",
    "$$\n",
    "\n",
    "Existe uma biblioteca no python dedicada a resolver equações organizadas na forma matricial acima. No pacote numpy, módulo de algebra linear. O código a seguir criará os vetores da matriz acima e executará o módulo de algebra linear do numpy, já entregando os resultados."
   ]
  },
  {
   "cell_type": "markdown",
   "metadata": {},
   "source": [
    "#### A partir desse ponto considera-se os apoios do nó observado\n",
    "\n",
    "No caso da primeira questao da segunda lista o primeiro nó está fixado com restriçao de deslocamento horizontal e vertical. \n",
    "\n",
    "Entao, segue o cálculo com $u_{iX}^E = u_{iX}^D = 0$:\n",
    "\n",
    "$$\n",
    "\\begin{equation}\n",
    "    \\begin{cases}\n",
    "            \\frac{E_iA_i}{L_i}((\\cos^3\\alpha_i + \\cos\\alpha_i\\sin^2\\alpha_i)0 - (\\cos^3\\alpha_i + \\cos\\alpha_i\\sin^2\\alpha_i)0) - (\\cos\\alpha_iF_{iX}^E + 0F_{iX}^D) = 0\\\\\n",
    "            \\frac{E_iA_i}{L_i}((\\cos^2\\alpha_i\\sin\\alpha_i + \\sin^3\\alpha_i)0 - (\\cos^2\\alpha_i\\sin\\alpha_i + \\sin^3\\alpha_i)0) - (\\sin\\alpha_iF_{iX}^E + 0F_{iX}^D) = 0\\\\\n",
    "            \\frac{E_iA_i}{L_i}(-(\\cos^3\\alpha_i + \\cos\\alpha_i\\sin^2\\alpha_i)0 + (\\cos^3\\alpha_i + \\cos\\alpha_i\\sin^2\\alpha_i)0) - (0F_{iX}^E + \\cos\\alpha_iF_{iX}^D) = 0\\\\\n",
    "            \\frac{E_iA_i}{L_i}(-(\\cos^2\\alpha_i\\sin\\alpha_i + \\sin^3\\alpha_i)0 + (\\cos^2\\alpha_i\\sin\\alpha_i + \\sin^3\\alpha_i)0) - (0F_{iX}^E + \\sin\\alpha_iF_{iX}^D) = 0\n",
    "    \\end{cases}\n",
    "    \\Rightarrow\n",
    "    \\begin{cases}\n",
    "            0 + 0 - (\\cos\\alpha_iF_{iX}^E + 0F_{iX}^D) = 0\\\\\n",
    "            0 + 0 - (\\sin\\alpha_iF_{iX}^E + 0F_{iX}^D) = 0\\\\\n",
    "            0 + 0 - (0F_{iX}^E + \\cos\\alpha_iF_{iX}^D) = 0\\\\\n",
    "            0 + 0 - (0F_{iX}^E + \\sin\\alpha_iF_{iX}^D) = 0\n",
    "    \\end{cases}\\\\\n",
    "\\end{equation}\n",
    "$$\n",
    "\n",
    "Voltando para a notaçao matricial:\n",
    "\n",
    "$$\n",
    "\\begin{bmatrix}\n",
    "    0 & 0 & \\cos\\alpha_i & 0\\\\\n",
    "    0 & 0 & \\sin\\alpha_i & 0\\\\\n",
    "    0 & 0 & 0 & \\cos\\alpha_i\\\\\n",
    "    0 & 0 & 0 & \\sin\\alpha_i\n",
    "\\end{bmatrix}\n",
    "\\begin{Bmatrix}\n",
    "    0\\\\\n",
    "    0\\\\\n",
    "    1\\\\\n",
    "    1\n",
    "\\end{Bmatrix}\n",
    "=\n",
    "\\begin{bmatrix}\n",
    "    0\\\\\n",
    "    0\\\\\n",
    "    0\\\\\n",
    "    0\n",
    "\\end{bmatrix}\n",
    "$$"
   ]
  },
  {
   "cell_type": "code",
   "execution_count": null,
   "metadata": {},
   "outputs": [],
   "source": []
  },
  {
   "cell_type": "code",
   "execution_count": 7,
   "metadata": {},
   "outputs": [
    {
     "name": "stdout",
     "output_type": "stream",
     "text": [
      "[[0.6 0. ]\n",
      " [0.  0.8]]\n",
      "[0.   1.25]\n"
     ]
    }
   ],
   "source": [
    "from itertools import cycle\n",
    "\n",
    "# image de conjunto imagem de uma funç~ao\n",
    "image = [[0, 1]]\n",
    "image = cycle(image)\n",
    "\n",
    "for i in alpha:\n",
    "    # coeffs de coeficientes\n",
    "    coeffs = np.mat([[np.sin(i), 0],\n",
    "                     [0, np.cos(i)]])\n",
    "                    \n",
    "    u = next(image)\n",
    "    \n",
    "    print(coeffs)\n",
    "    \n",
    "    variaveis = np.linalg.solve(coeffs, u)\n",
    "#     print('Os resultados são: u2 = %.2em, u3 = %.2em, f1 = %.2eN e f4 = %.2N' % tuple(variaveis))\n",
    "    print(variaveis)\n",
    "    break"
   ]
  },
  {
   "cell_type": "code",
   "execution_count": 28,
   "metadata": {},
   "outputs": [
    {
     "data": {
      "text/plain": [
       "0.5000000000000001"
      ]
     },
     "execution_count": 28,
     "metadata": {},
     "output_type": "execute_result"
    }
   ],
   "source": [
    "np.cos(60.* np.pi/180.)"
   ]
  },
  {
   "cell_type": "code",
   "execution_count": 34,
   "metadata": {},
   "outputs": [
    {
     "data": {
      "text/plain": [
       "-36.86989764584402"
      ]
     },
     "execution_count": 34,
     "metadata": {},
     "output_type": "execute_result"
    }
   ],
   "source": [
    "-np.arctan(9 / 12) * 180 / np.pi"
   ]
  },
  {
   "cell_type": "code",
   "execution_count": null,
   "metadata": {},
   "outputs": [],
   "source": []
  }
 ],
 "metadata": {
  "kernelspec": {
   "display_name": "Python 3",
   "language": "python",
   "name": "python3"
  },
  "language_info": {
   "codemirror_mode": {
    "name": "ipython",
    "version": 3
   },
   "file_extension": ".py",
   "mimetype": "text/x-python",
   "name": "python",
   "nbconvert_exporter": "python",
   "pygments_lexer": "ipython3",
   "version": "3.8.3"
  }
 },
 "nbformat": 4,
 "nbformat_minor": 4
}
