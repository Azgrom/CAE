{
 "cells": [
  {
   "cell_type": "markdown",
   "metadata": {},
   "source": [
    "# Lógica do Segundo Exercício da Apostila\n",
    "\n",
    "**Aluno:** Rafael Lúcio Negrão Cordeiro<br/>\n",
    "**Matrícula:** 201310323<br/>\n",
    "**Disciplina:** CET961 - Engenharia Assistida por Computador"
   ]
  },
  {
   "cell_type": "code",
   "execution_count": 1,
   "metadata": {},
   "outputs": [],
   "source": [
    "import numpy as np\n",
    "\n",
    "A1 = 32.3 # cm²\n",
    "A2 = 38.7 # cm²\n",
    "A3 = 25.8 # cm²\n",
    "\n",
    "A = [A1, A2, A3] # Compactaçao dos valores de área em vetor\n",
    "\n",
    "E1 = 6.9e10  # N / m\n",
    "E2 = 20.7e10 # N / m\n",
    "E3 = 20.7e10 # N / m\n",
    "\n",
    "E = [E1, E2, E3] # Compactaçao dos módulos de elasticidade em vetor\n",
    "\n",
    "L1 = 2.54 # m\n",
    "L2 = 2.54 # m\n",
    "L3 = 3.59 # m\n",
    "\n",
    "L = [L1, L2, L3] # Compactaçao dos comprimentos em vetor\n",
    "\n",
    "con1 = (2, 3)\n",
    "con2 = (1, 2)\n",
    "con3 = (1, 3)\n",
    "\n",
    "alpha = np.array([90, 0, 135]) # Vetor criado com angulos em graus\n",
    "\n",
    "F = 100e3 # kN\n",
    "Fx = F * np.cos(225 * np.pi / 180) # 225 * np.pi / 180 é o angulo de 225 em radianos\n",
    "Fy = F * np.sin(225 * np.pi / 180)"
   ]
  },
  {
   "cell_type": "code",
   "execution_count": 2,
   "metadata": {},
   "outputs": [],
   "source": [
    "# Podemos definir a Lei de Hooke da seguinte forma\n",
    "hooke = lambda E, A, L: E * A / L\n",
    "\n",
    "# Transforma um angulo em graus, em radianos\n",
    "radians = lambda alpha: alpha * np.pi / 180\n",
    "\n",
    "k_4x4 = lambda alpha: np.mat([[np.cos(alpha) ** 2, np.cos(alpha) * np.sin(alpha), -np.cos(alpha) ** 2, -np.cos(alpha) * np.sin(alpha)],\n",
    "                          [np.cos(alpha) * np.sin(alpha), np.sin(alpha) ** 2, -np.cos(alpha) * np.sin(alpha), -np.sin(alpha) ** 2],\n",
    "                          [-np.cos(alpha) ** 2, -np.cos(alpha) * np.sin(alpha), np.cos(alpha) ** 2, np.cos(alpha) * np.sin(alpha)],\n",
    "                          [-np.cos(alpha) * np.sin(alpha), -np.sin(alpha) ** 2, np.cos(alpha) * np.sin(alpha), np.sin(alpha) ** 2]])\n",
    "\n",
    "u_4x2 = lambda alpha: np.mat([[np.cos(alpha), 0],\n",
    "                              [np.sin(alpha), 0],\n",
    "                              [0, np.cos(alpha)],\n",
    "                              [0, np.sin(alpha)]])\n",
    "\n",
    "t_2x4 = lambda alpha: np.mat([[np.cos(alpha), np.sin(alpha), 0, 0],\n",
    "                              [0, 0, np.cos(alpha), np.sin(alpha)]])\n",
    "\n",
    "# Definiçao da matriz K_U\n",
    "# Aplicaçao da funçao da constante elástica para obter as forças resultantes\n",
    "k_u_4x2 = lambda alpha, E, A, L: k_4x4(alpha) * u_4x2(alpha) * hooke(E, A, L) "
   ]
  },
  {
   "cell_type": "markdown",
   "metadata": {},
   "source": [
    "#### Compondo o sistema na notaçao matricial $[K_{i}^{(g)}]\\{U_{i}^{(g)}\\} = \\{F_{i}^{(g)}\\}$, temos:\n",
    "\n",
    "$$\n",
    "\\begin{split}\n",
    "    \\overbrace{\n",
    "        \\begin{bmatrix}\n",
    "            k_{1 x 1 (i)} & k_{1 x 2 (i)} & k_{1 x 3 (i)} & k_{1 x 4 (i)}\\\\\n",
    "            k_{2 x 1 (i)} & k_{2 x 2 (i)} & k_{2 x 3 (i)} & k_{2 x 4 (i)}\\\\\n",
    "            k_{3 x 1 (i)} & k_{3 x 2 (i)} & k_{3 x 3 (i)} & k_{3 x 4 (i)}\\\\\n",
    "            k_{4 x 1 (i)} & k_{4 x 2 (i)} & k_{4 x 3 (i)} & k_{4 x 4 (i)}\n",
    "        \\end{bmatrix}\n",
    "    }^{[K^{(g)}_i]}\n",
    "    \\overbrace{\n",
    "        \\begin{Bmatrix}\n",
    "            u_{iX}^E\\\\\n",
    "            u_{iY}^E\\\\\n",
    "            u_{iX}^D\\\\\n",
    "            u_{iY}^D\n",
    "        \\end{Bmatrix}\n",
    "    }^{\\{U^{(g)}_i\\}}\n",
    "    =\n",
    "    \\overbrace{\n",
    "        \\begin{Bmatrix}\n",
    "            F_{iX}^{E}\\\\\n",
    "            F_{iY}^{E}\\\\\n",
    "            F_{iX}^{D}\\\\\n",
    "            F_{iY}^{D}\n",
    "        \\end{Bmatrix}\n",
    "    }^{\\{F^{(g)}_i\\}}\\\\\n",
    "    \\overbrace{\n",
    "        \\frac{E_iA_i}{L_i}\n",
    "        \\begin{bmatrix}\n",
    "            \\cos^2\\alpha_i & \\cos\\alpha_i\\sin\\alpha_i & -\\cos^2\\alpha_i & -\\cos\\alpha_i\\sin\\alpha_i\\\\\n",
    "            \\cos\\alpha_i\\sin\\alpha_i & \\sin^2\\alpha_i & -\\cos\\alpha_i\\sin\\alpha_i & -\\sin^2\\alpha_i\\\\\n",
    "            -\\cos^2\\alpha_i & -\\cos\\alpha_i\\sin\\alpha_i & \\cos^2\\alpha_i & \\cos\\alpha_i\\sin\\alpha_i\\\\\n",
    "            -\\cos\\alpha_i\\sin\\alpha_i & -\\sin^2\\alpha_i & \\cos\\alpha_i\\sin\\alpha_i & \\sin^2\\alpha_i\n",
    "        \\end{bmatrix}\n",
    "    }^{[K^{(g)}_i]}\n",
    "    \\overbrace{\n",
    "        \\begin{bmatrix}\n",
    "            \\cos\\alpha_i & 0\\\\\n",
    "            \\sin\\alpha_i & 0\\\\\n",
    "            0 & \\cos\\alpha_i\\\\\n",
    "            0 & \\sin\\alpha_i\n",
    "        \\end{bmatrix}\n",
    "        \\begin{Bmatrix}\n",
    "            u_{i}^E\\\\\n",
    "            u_{i}^D\n",
    "        \\end{Bmatrix}\n",
    "    }^{\\{U^{(g)}_i\\}}=\n",
    "    \\overbrace{\n",
    "        \\begin{bmatrix}\n",
    "            \\cos\\alpha_i & 0\\\\\n",
    "            \\sin\\alpha_i & 0\\\\\n",
    "            0 & \\cos\\alpha_i\\\\\n",
    "            0 & \\sin\\alpha_i\n",
    "        \\end{bmatrix}\n",
    "        \\begin{Bmatrix}\n",
    "            F_{iX}^E\\\\\n",
    "            F_{iX}^D\n",
    "        \\end{Bmatrix}\n",
    "    }^{\\{F^{(g)}_i\\}}\n",
    "\\end{split}\n",
    "$$"
   ]
  },
  {
   "cell_type": "markdown",
   "metadata": {},
   "source": [
    "$$\n",
    "\\overbrace{\n",
    "    \\frac{E_iA_i}{L_i}\n",
    "        \\begin{bmatrix}\n",
    "            \\cos^3\\alpha_i + \\cos\\alpha_i\\sin^2\\alpha_i & -\\cos^3\\alpha_i - \\cos\\alpha_i\\sin^2\\alpha_i\\\\\n",
    "            \\cos^2\\alpha_i\\sin\\alpha_i + \\sin^3\\alpha_i & -\\cos^2\\alpha_i\\sin\\alpha_i - \\sin^3\\alpha_i\\\\\n",
    "            -\\cos^3\\alpha_i - \\cos\\alpha_i\\sin^2\\alpha_i & \\cos^3\\alpha_i + \\cos\\alpha_i\\sin^2\\alpha_i\\\\\n",
    "            -\\cos^2\\alpha_i\\sin\\alpha_i - \\sin^3\\alpha_i & \\cos^2\\alpha_i\\sin\\alpha_i + \\sin^3\\alpha_i\n",
    "        \\end{bmatrix}\n",
    "}^{[K^{(g)}_i]}\n",
    "\\overbrace{\n",
    "    \\begin{Bmatrix}\n",
    "        u_{i}^E\\\\\n",
    "        u_{i}^D\n",
    "    \\end{Bmatrix}\n",
    "}^{\\{U^{(g)}_i\\}}\n",
    "=\n",
    "\\overbrace{\n",
    "    \\begin{Bmatrix}\n",
    "        F_{iX}^{E}\\\\\n",
    "        F_{iY}^{E}\\\\\n",
    "        F_{iX}^{D}\\\\\n",
    "        F_{iY}^{D}\n",
    "    \\end{Bmatrix}\n",
    "}^{\\{F^{(g)}_i\\}}\\\\\n",
    "$$"
   ]
  },
  {
   "cell_type": "markdown",
   "metadata": {},
   "source": [
    "Com $F_{iX}^E=100kN\\cos225^{\\circ}=-70,710678kN\\\\\n",
    "     F_{iY}^E=100kN\\sin225^{\\circ}=-70,710678kN\\\\\n",
    "     u_{iX}^D=0$\n",
    "\n",
    "$$\n",
    "\\overbrace{\n",
    "    \\frac{E_iA_i}{L_i}\n",
    "    \\begin{bmatrix}\n",
    "        \\cos^3\\alpha_i + \\cos\\alpha_i\\sin^2\\alpha_i & -\\cos^3\\alpha_i - \\cos\\alpha_i\\sin^2\\alpha_i\\\\\n",
    "        \\cos^2\\alpha_i\\sin\\alpha_i + \\sin^3\\alpha_i & -\\cos^2\\alpha_i\\sin\\alpha_i - \\sin^3\\alpha_i\\\\\n",
    "        -\\cos^3\\alpha_i - \\cos\\alpha_i\\sin^2\\alpha_i & \\cos^3\\alpha_i + \\cos\\alpha_i\\sin^2\\alpha_i\\\\\n",
    "        -\\cos^2\\alpha_i\\sin\\alpha_i - \\sin^3\\alpha_i & \\cos^2\\alpha_i\\sin\\alpha_i + \\sin^3\\alpha_i\n",
    "    \\end{bmatrix}\n",
    "    \\begin{Bmatrix}\n",
    "        u_{i}^E\\\\\n",
    "        0\n",
    "    \\end{Bmatrix}\n",
    "}^{\\{K^{(g)}_i\\}\\{U^{(g)}_i\\}}\n",
    "=\n",
    "\\overbrace{\n",
    "    \\begin{Bmatrix}\n",
    "        -70,710678kN\\\\\n",
    "        -70,710678kN\\\\\n",
    "        F_{iX}^{D}\\\\\n",
    "        F_{iY}^{D}\n",
    "    \\end{Bmatrix}\n",
    "}^{\\{F^{(g)}_i\\}}\n",
    "$$"
   ]
  },
  {
   "attachments": {
    "c78b5d22-231f-4ed5-8855-293c6c0e4ab8.png": {
     "image/png": "[encoded data removed]"
    }
   },
   "cell_type": "markdown",
   "metadata": {},
   "source": [
    "Representando em forma de sistema, temos:\n",
    "\n",
    "$$\n",
    "\\begin{equation}\n",
    "    \\frac{E_iA_i}{L_i}\n",
    "    x\n",
    "    \\begin{cases}\n",
    "        (\\cos^3\\alpha_i + \\cos\\alpha_i\\sin^2\\alpha_i)u_{i}^E = \\cos\\alpha_iF_{iX}^E + 0F_{i}^D\\\\\n",
    "        (\\cos^2\\alpha_i\\sin\\alpha_i + \\sin^3\\alpha_i)u_{i}^E = \\sin\\alpha_iF_{iY}^E + 0F_{i}^D\\\\\n",
    "        -(\\cos^3\\alpha_i + \\cos\\alpha_i\\sin^2\\alpha_i)u_{i}^E = 0F_{iX}^E + \\cos\\alpha_iF_{i}^D\\\\\n",
    "        -(\\cos^2\\alpha_i\\sin\\alpha_i + \\sin^3\\alpha_i)u_{i}^E = 0F_{iY}^E + \\sin\\alpha_iF_{i}^D\n",
    "    \\end{cases}\n",
    "    \\Rightarrow\n",
    "    \\begin{cases}\n",
    "        \\frac{E_iA_i}{L_i}((\\cos^3\\alpha_i + \\cos\\alpha_i\\sin^2\\alpha_i)u_{i}^E + 0) - 0F_{iX}^D = \\cos\\alpha_iF_{i}^E\\\\\n",
    "        \\frac{E_iA_i}{L_i}((\\cos^2\\alpha_i\\sin\\alpha_i + \\sin^3\\alpha_i)u_{i}^E + 0) - 0F_{iY}^D = \\sin\\alpha_iF_{i}^E\\\\\n",
    "        \\frac{E_iA_i}{L_i}(-(\\cos^3\\alpha_i + \\cos\\alpha_i\\sin^2\\alpha_i)u_{i}^E + 0) - \\cos\\alpha_iF_{iX}^D = 0F_{i}^E\\\\\n",
    "        \\frac{E_iA_i}{L_i}(-(\\cos^2\\alpha_i\\sin\\alpha_i + \\sin^3\\alpha_i)u_{i}^E + 0) - \\sin\\alpha_iF_{iY}^D = 0F_{i}^E\n",
    "    \\end{cases}\\\\\n",
    "    \\begin{cases}\n",
    "        \\frac{E_iA_i}{L_i}((\\cos^3\\alpha_iu_{iX}^E + \\cos\\alpha_i\\sin^2\\alpha_iu_{iY}^E) + 0(-(\\cos^3\\alpha_i + \\cos\\alpha_i\\sin^2\\alpha_i)) - 0F_{i}^D = \\cos\\alpha_iF_{i}^E\\\\\n",
    "        \\frac{E_iA_i}{L_i}((\\cos^2\\alpha_i\\sin\\alpha_iu_{iX}^E + \\sin^3\\alpha_iu_{iY}^E) + 0(-(\\cos^2\\alpha_i\\sin\\alpha_i + \\sin^3\\alpha_i)) - 0F_{i}^D = \\sin\\alpha_iF_{i}^E\\\\\n",
    "        \\frac{E_iA_i}{L_i}(-(\\cos^3\\alpha_iu_{iX}^E + \\cos\\alpha_i\\sin^2\\alpha_iu_{iY}^E) + 0(\\cos^3\\alpha_i + \\cos\\alpha_i\\sin^2\\alpha_i) - \\cos\\alpha_iF_{i}^D = 0F_{i}^E\\\\\n",
    "        \\frac{E_iA_i}{L_i}(-(\\cos^2\\alpha_i\\sin\\alpha_iu_{iX}^E + \\sin^3\\alpha_iu_{iY}^E) + 0(\\cos^2\\alpha_i\\sin\\alpha_i + \\sin^3\\alpha_i) - \\sin\\alpha_iF_{i}^D = 0F_{i}^E\n",
    "    \\end{cases}\n",
    "\\end{equation}\n",
    "$$\n",
    "\n",
    "Nesse último sistema, apesar de $u_{iX}^D=0$, os índices dele foram colocados em posiçao devido ao fato da matriz que resolve o sistema receber os índices de todas variáveis. Independente se a variável é zero.\n",
    "\n",
    "![Screenshot_20201118_164730.png](attachment:c78b5d22-231f-4ed5-8855-293c6c0e4ab8.png)"
   ]
  },
  {
   "cell_type": "code",
   "execution_count": 3,
   "metadata": {},
   "outputs": [],
   "source": [
    "from itertools import cycle\n",
    "\n",
    "i = cycle(map(k_u_4x2, map(radians, alpha), E, A, L))\n",
    "\n",
    "j = next(i)"
   ]
  },
  {
   "cell_type": "code",
   "execution_count": 4,
   "metadata": {},
   "outputs": [
    {
     "name": "stdout",
     "output_type": "stream",
     "text": [
      "j = matrix([[ 5.37277622e-05, -5.37277622e-05],\n",
      "        [ 8.77440945e+11, -8.77440945e+11],\n",
      "        [-5.37277622e-05,  5.37277622e-05],\n",
      "        [-8.77440945e+11,  8.77440945e+11]]), onde a primeira coluna representa os índices da variável de deslocamento uiE, e a segunda coluna representa os índices da variável de deslocamento uiD\n"
     ]
    }
   ],
   "source": [
    "print(f'{j = !r}, onde a primeira coluna representa os índices da variável de deslocamento uiE, e a segunda coluna representa os índices da variável de deslocamento uiD')"
   ]
  },
  {
   "cell_type": "markdown",
   "metadata": {},
   "source": [
    "#### Como, nesse caso, o primeiro elemento tem restriçao de movimento em X e em Y na extremidade superior $U_i^D = 0$, portanto, a matrix j acima será multiplicada pela matrix abaixo tal que a coluna dos índices da variável $U_i^D$ seja zerada:\n",
    "$$\n",
    "\\begin{bmatrix}\n",
    "    1 & 0\\\\\n",
    "    0 & 0\n",
    "\\end{bmatrix}\n",
    "$$"
   ]
  },
  {
   "cell_type": "code",
   "execution_count": 5,
   "metadata": {},
   "outputs": [
    {
     "name": "stdout",
     "output_type": "stream",
     "text": [
      "j = matrix([[ 5.37277622e-05,  0.00000000e+00],\n",
      "        [ 8.77440945e+11,  0.00000000e+00],\n",
      "        [-5.37277622e-05,  0.00000000e+00],\n",
      "        [-8.77440945e+11,  0.00000000e+00]])\n"
     ]
    }
   ],
   "source": [
    "j = j * [[1, 0],\n",
    "         [0, 0]]\n",
    "\n",
    "print(f'{j = !r}')"
   ]
  },
  {
   "cell_type": "markdown",
   "metadata": {},
   "source": [
    "#### Ainda falta a coluna dos índices da variável $F_{i}^D$ representada pela matrix $\\begin{bmatrix}0\\\\0\\\\0\\\\-1\\end{bmatrix}$"
   ]
  },
  {
   "cell_type": "code",
   "execution_count": 6,
   "metadata": {},
   "outputs": [
    {
     "data": {
      "text/plain": [
       "array([[ 0.00000000e+00,  0.00000000e+00,  0.00000000e+00],\n",
       "       [ 8.77440945e+11,  0.00000000e+00,  0.00000000e+00],\n",
       "       [-0.00000000e+00,  0.00000000e+00,  0.00000000e+00],\n",
       "       [-8.77440945e+11,  0.00000000e+00, -1.00000000e+00]])"
      ]
     },
     "execution_count": 6,
     "metadata": {},
     "output_type": "execute_result"
    }
   ],
   "source": [
    "j = np.append(j, [[0],\n",
    "                  [0], \n",
    "                  [0], \n",
    "                  [-1]], axis=1).round(decimals=3)\n",
    "j"
   ]
  },
  {
   "cell_type": "code",
   "execution_count": 7,
   "metadata": {},
   "outputs": [
    {
     "name": "stdout",
     "output_type": "stream",
     "text": [
      "[[ 8.77440945e+11  0.00000000e+00]\n",
      " [-8.77440945e+11 -1.00000000e+00]]\n"
     ]
    }
   ],
   "source": [
    "j = np.delete(j, np.where(~j.any(axis=1))[0], axis=0) # Reduçao da matrix, retirando colunas iguais a zero\n",
    "j = np.delete(j.T, np.where(~j.T.any(axis=1))[0], axis=0).T # Reduçao da matrix, retirando linhas iguais a zero\n",
    "\n",
    "print(j)\n",
    "\n",
    "image = [Fx, 0]"
   ]
  },
  {
   "cell_type": "code",
   "execution_count": 12,
   "metadata": {},
   "outputs": [
    {
     "ename": "TypeError",
     "evalue": "not all arguments converted during string formatting",
     "output_type": "error",
     "traceback": [
      "\u001b[0;31m---------------------------------------------------------------------------\u001b[0m",
      "\u001b[0;31mTypeError\u001b[0m                                 Traceback (most recent call last)",
      "\u001b[0;32m<ipython-input-12-fe533f1606ea>\u001b[0m in \u001b[0;36m<module>\u001b[0;34m\u001b[0m\n\u001b[0;32m----> 1\u001b[0;31m \u001b[0mprint\u001b[0m\u001b[0;34m(\u001b[0m\u001b[0;34m'{}, {}'\u001b[0m \u001b[0;34m%\u001b[0m \u001b[0mtuple\u001b[0m\u001b[0;34m(\u001b[0m\u001b[0mnp\u001b[0m\u001b[0;34m.\u001b[0m\u001b[0mlinalg\u001b[0m\u001b[0;34m.\u001b[0m\u001b[0msolve\u001b[0m\u001b[0;34m(\u001b[0m\u001b[0mj\u001b[0m\u001b[0;34m,\u001b[0m \u001b[0mimage\u001b[0m\u001b[0;34m)\u001b[0m\u001b[0;34m)\u001b[0m\u001b[0;34m)\u001b[0m\u001b[0;34m\u001b[0m\u001b[0;34m\u001b[0m\u001b[0m\n\u001b[0m",
      "\u001b[0;31mTypeError\u001b[0m: not all arguments converted during string formatting"
     ]
    }
   ],
   "source": [
    "print('Deslocamento do nó 2, na vertical = %.2emm\\nForça horizontal exercida pela extremidade superior do ' % tuple(np.linalg.solve(j, image)))"
   ]
  },
  {
   "cell_type": "code",
   "execution_count": 13,
   "metadata": {},
   "outputs": [
    {
     "data": {
      "text/plain": [
       "2"
      ]
     },
     "execution_count": 13,
     "metadata": {},
     "output_type": "execute_result"
    }
   ],
   "source": [
    "len(np.linalg.solve(j, image))"
   ]
  },
  {
   "cell_type": "code",
   "execution_count": null,
   "metadata": {},
   "outputs": [],
   "source": []
  }
 ],
 "metadata": {
  "kernelspec": {
   "display_name": "Python 3",
   "language": "python",
   "name": "python3"
  },
  "language_info": {
   "codemirror_mode": {
    "name": "ipython",
    "version": 3
   },
   "file_extension": ".py",
   "mimetype": "text/x-python",
   "name": "python",
   "nbconvert_exporter": "python",
   "pygments_lexer": "ipython3",
   "version": "3.8.3"
  }
 },
 "nbformat": 4,
 "nbformat_minor": 4
}
