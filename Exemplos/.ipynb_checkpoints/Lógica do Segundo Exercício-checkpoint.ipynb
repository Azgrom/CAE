{
 "cells": [
  {
   "cell_type": "markdown",
   "metadata": {},
   "source": [
    "# Lógica do Segundo Exercício da Apostila\n",
    "\n",
    "**Aluno:** Rafael Lúcio Negrão Cordeiro<br/>\n",
    "**Matrícula:** 201310323<br/>\n",
    "**Disciplina:** CET961 - Engenharia Assistida por Computador"
   ]
  },
  {
   "cell_type": "code",
   "execution_count": 32,
   "metadata": {},
   "outputs": [],
   "source": [
    "A1 = 32.3 # cm²\n",
    "A2 = 38.7 # cm²\n",
    "A3 = 25.8 # cm²\n",
    "\n",
    "E1 = 6.9e10  # N / m\n",
    "E2 = 20.7e10 # N / m\n",
    "E3 = 20.7e10 # N / m\n",
    "\n",
    "L1 = 2.54 # m\n",
    "L2 = 2.54 # m\n",
    "L3 = 3.59 # m\n",
    "\n",
    "con1 = (2, 3)\n",
    "con2 = (1, 2)\n",
    "con3 = (1, 3)\n",
    "\n",
    "alpha = np.array([90, 0, 135])\n",
    "\n",
    "u1 = u3 = 0"
   ]
  },
  {
   "cell_type": "markdown",
   "metadata": {},
   "source": [
    "#### Podemos definir a lei de Hooke da seguinte forma:"
   ]
  },
  {
   "cell_type": "code",
   "execution_count": 2,
   "metadata": {},
   "outputs": [],
   "source": [
    "hooke = lambda E, A, L: E * A / L"
   ]
  },
  {
   "cell_type": "markdown",
   "metadata": {},
   "source": [
    "#### Compondo o sistema na notaçao matricial $[K_{i}^{(g)}]\\{U_{i}^{(g)}\\} = \\{F_{i}^{(g)}\\}$, temos:\n",
    "\n",
    "$$\n",
    "\\begin{split}\n",
    "    \\overbrace{\n",
    "        \\frac{E_iA_i}{L_i}\n",
    "        \\begin{bmatrix}\n",
    "            \\cos^2\\alpha_i & \\cos\\alpha_i\\sin\\alpha_i & -\\cos^2\\alpha_i & -\\cos\\alpha_i\\sin\\alpha_i\\\\\n",
    "            \\cos\\alpha_i\\sin\\alpha_i & \\sin^2\\alpha_i & -\\cos\\alpha_i\\sin\\alpha_i & -\\sin^2\\alpha_i\\\\\n",
    "            -\\cos^2\\alpha_i & -\\cos\\alpha_i\\sin\\alpha_i & \\cos^2\\alpha_i & \\cos\\alpha_i\\sin\\alpha_i\\\\\n",
    "            \\cos\\alpha_i\\sin\\alpha_i & -\\sin^2\\alpha_i & -\\cos\\alpha_i\\sin\\alpha_i & -\\sin^2\\alpha_i\n",
    "        \\end{bmatrix}\n",
    "    }^{[K^{(g)}]}\n",
    "    \\overbrace{\n",
    "        \\begin{Bmatrix}\n",
    "            (u_{i}^E)_X\\\\\n",
    "            (u_{i}^E)_Y\\\\\n",
    "            (u_{i}^D)_X\\\\\n",
    "            (u_{i}^D)_Y\n",
    "        \\end{Bmatrix}\n",
    "    }^{\\{U^{(g)}\\}}\n",
    "    =\n",
    "    \\overbrace{\n",
    "        \\begin{Bmatrix}\n",
    "            (F_{i}^{(E)})_X\\\\\n",
    "            (F_{i}^{(E)})_Y\\\\\n",
    "            (F_{i}^{(D)})_X\\\\\n",
    "            (F_{i}^{(D)})_Y\n",
    "        \\end{Bmatrix}\n",
    "    }^{\\{F^{(g)}\\}}\\\\\n",
    "    \\overbrace{\n",
    "        \\begin{bmatrix}\n",
    "            k_{1 x 1 (i)} & k_{1 x 2 (i)} & k_{1 x 3 (i)} & k_{1 x 4 (i)}\\\\\n",
    "            k_{2 x 1 (i)} & k_{2 x 2 (i)} & k_{2 x 3 (i)} & k_{2 x 4 (i)}\\\\\n",
    "            k_{3 x 1 (i)} & k_{3 x 2 (i)} & k_{3 x 3 (i)} & k_{3 x 4 (i)}\\\\\n",
    "            k_{4 x 1 (i)} & k_{4 x 2 (i)} & k_{4 x 3 (i)} & k_{4 x 4 (i)}\n",
    "        \\end{bmatrix}\n",
    "    }^{[K^{(g)}]}\n",
    "    \\overbrace{\n",
    "        \\begin{Bmatrix}\n",
    "            (u_{i}^E)_X\\\\\n",
    "            (u_{i}^E)_Y\\\\\n",
    "            (u_{i}^D)_X\\\\\n",
    "            (u_{i}^D)_Y\n",
    "        \\end{Bmatrix}\n",
    "    }^{\\{U^{(g)}\\}}\n",
    "    =\n",
    "    \\overbrace{\n",
    "        \\begin{Bmatrix}\n",
    "            (F_{i}^{(E)})_X\\\\\n",
    "            (F_{i}^{(E)})_Y\\\\\n",
    "            (F_{i}^{(D)})_X\\\\\n",
    "            (F_{i}^{(D)})_Y\n",
    "        \\end{Bmatrix}\n",
    "    }^{\\{F^{(g)}\\}}\\\\\n",
    "\\end{split}\n",
    "$$"
   ]
  },
  {
   "cell_type": "markdown",
   "metadata": {},
   "source": [
    "Representando em forma de sistema, temos:\n",
    "\n",
    "$$\n",
    "\\begin{equation}\n",
    "    \\begin{cases}\n",
    "        k_{1 x 1 (i)}(u_{i}^E)_X + k_{1 x 2 (i)}(u_{i}^E)_Y + k_{1 x 3 (i)}(u_{i}^D)_X + k_{1 x 4 (i)}(u_{i}^D)_Y = (F_{i}^{(E)})_X\\\\\n",
    "        k_{2 x 1 (i)}(u_{i}^E)_X + k_{2 x 2 (i)}(u_{i}^E)_Y + k_{2 x 3 (i)}(u_{i}^D)_X + k_{2 x 4 (i)}(u_{i}^D)_Y = (F_{i}^{(E)})_Y\\\\\n",
    "        k_{3 x 1 (i)}(u_{i}^E)_X + k_{3 x 2 (i)}(u_{i}^E)_Y + k_{3 x 3 (i)}(u_{i}^D)_X + k_{3 x 4 (i)}(u_{i}^D)_Y = (F_{i}^{(D)})_X\\\\\n",
    "        k_{4 x 1 (i)}(u_{i}^E)_X + k_{4 x 2 (i)}(u_{i}^E)_Y + k_{4 x 3 (i)}(u_{i}^D)_X + k_{4 x 4 (i)}(u_{i}^D)_Y = (F_{i}^{(D)})_Y\n",
    "    \\end{cases}\n",
    "\\end{equation}\n",
    "$$\n",
    "\n",
    "Listando o sistema para cada nó:\n",
    "\n",
    "$$\n",
    "\\begin{equation}\n",
    "    i = 1, \\alpha = 90\n",
    "    \\begin{cases}\n",
    "        0(u_{i}^E)_X + 0(u_{i}^E)_Y + 0(u_{i}^D)_X + 0(u_{i}^D)_Y = (F_{i}^{(E)})_X\\\\\n",
    "        0(u_{i}^E)_X + (u_{i}^E)_Y + 0(u_{i}^D)_X - (u_{i}^D)_Y = (F_{i}^{(E)})_Y\\\\\n",
    "        0(u_{i}^E)_X + 0(u_{i}^E)_Y + 0(u_{i}^D)_X + 0(u_{i}^D)_Y = (F_{i}^{(D)})_X\\\\\n",
    "        0(u_{i}^E)_X - (u_{i}^E)_Y + 0(u_{i}^D)_X - (u_{i}^D)_Y = (F_{i}^{(D)})_Y\n",
    "    \\end{cases}\\\\\n",
    "    i = 2, \\alpha = 0\n",
    "    \\begin{cases}\n",
    "        (u_{i}^E)_X + 0(u_{i}^E)_Y - (u_{i}^D)_X + 0(u_{i}^D)_Y = (F_{i}^{(E)})_X\\\\\n",
    "        0(u_{i}^E)_X + 0(u_{i}^E)_Y + 0(u_{i}^D)_X + 0(u_{i}^D)_Y = (F_{i}^{(E)})_Y\\\\\n",
    "        - (u_{i}^E)_X + 0(u_{i}^E)_Y + (u_{i}^D)_X + 0(u_{i}^D)_Y = (F_{i}^{(D)})_X\\\\\n",
    "        0(u_{i}^E)_X + 0(u_{i}^E)_Y + 0(u_{i}^D)_X + 0(u_{i}^D)_Y = (F_{i}^{(D)})_Y\n",
    "    \\end{cases}\\\\\n",
    "    i = 3, \\alpha = 135\n",
    "    \\begin{cases}\n",
    "        0.5(u_{i}^E)_X - 0.5(u_{i}^E)_Y - 0.5(u_{i}^D)_X + 0.5(u_{i}^D)_Y = (F_{i}^{(E)})_X\\\\\n",
    "        - 0.5(u_{i}^E)_X + 0.5(u_{i}^E)_Y + 0.5(u_{i}^D)_X - 0.5(u_{i}^D)_Y = (F_{i}^{(E)})_Y\\\\\n",
    "        - 0.5(u_{i}^E)_X + 0.5(u_{i}^E)_Y + 0.5(u_{i}^D)_X - 0.5(u_{i}^D)_Y = (F_{i}^{(D)})_X\\\\\n",
    "        - 0.5(u_{i}^E)_X - 0.5(u_{i}^E)_Y + 0.5(u_{i}^D)_X - 0.5(u_{i}^D)_Y = (F_{i}^{(D)})_Y\n",
    "    \\end{cases}\n",
    "\\end{equation}\n",
    "$$\n",
    "\n",
    "Existe uma biblioteca no python dedicada a resolver equações organizadas na forma matricial acima. No pacote numpy, módulo de algebra linear. O código a seguir criará os vetores da matriz acima e executará o módulo de algebra linear do numpy, já entregando os resultados."
   ]
  },
  {
   "cell_type": "code",
   "execution_count": 34,
   "metadata": {},
   "outputs": [
    {
     "name": "stdout",
     "output_type": "stream",
     "text": [
      "[[ 3.74939946e-33  6.12323400e-17 -3.74939946e-33 -6.12323400e-17]\n",
      " [ 6.12323400e-17  1.00000000e+00 -6.12323400e-17 -1.00000000e+00]\n",
      " [-3.74939946e-33 -6.12323400e-17  3.74939946e-33  6.12323400e-17]\n",
      " [ 6.12323400e-17 -1.00000000e+00 -6.12323400e-17 -1.00000000e+00]]\n"
     ]
    },
    {
     "ename": "LinAlgError",
     "evalue": "Singular matrix",
     "output_type": "error",
     "traceback": [
      "\u001b[0;31m---------------------------------------------------------------------------\u001b[0m",
      "\u001b[0;31mLinAlgError\u001b[0m                               Traceback (most recent call last)",
      "\u001b[0;32m<ipython-input-34-8dc73d36079a>\u001b[0m in \u001b[0;36m<module>\u001b[0;34m\u001b[0m\n\u001b[1;32m     16\u001b[0m     \u001b[0mprint\u001b[0m\u001b[0;34m(\u001b[0m\u001b[0mcoeffs\u001b[0m\u001b[0;34m)\u001b[0m\u001b[0;34m\u001b[0m\u001b[0;34m\u001b[0m\u001b[0m\n\u001b[1;32m     17\u001b[0m \u001b[0;34m\u001b[0m\u001b[0m\n\u001b[0;32m---> 18\u001b[0;31m     \u001b[0mvariaveis\u001b[0m \u001b[0;34m=\u001b[0m \u001b[0mnp\u001b[0m\u001b[0;34m.\u001b[0m\u001b[0mlinalg\u001b[0m\u001b[0;34m.\u001b[0m\u001b[0msolve\u001b[0m\u001b[0;34m(\u001b[0m\u001b[0mcoeffs\u001b[0m\u001b[0;34m,\u001b[0m \u001b[0mu\u001b[0m\u001b[0;34m)\u001b[0m\u001b[0;34m\u001b[0m\u001b[0;34m\u001b[0m\u001b[0m\n\u001b[0m\u001b[1;32m     19\u001b[0m \u001b[0;31m#     print('Os resultados são: u2 = %.2em, u3 = %.2em, f1 = %.2eN e f4 = %.2N' % tuple(variaveis))\u001b[0m\u001b[0;34m\u001b[0m\u001b[0;34m\u001b[0m\u001b[0;34m\u001b[0m\u001b[0m\n",
      "\u001b[0;32m<__array_function__ internals>\u001b[0m in \u001b[0;36msolve\u001b[0;34m(*args, **kwargs)\u001b[0m\n",
      "\u001b[0;32m~/.local/lib/python3.8/site-packages/numpy/linalg/linalg.py\u001b[0m in \u001b[0;36msolve\u001b[0;34m(a, b)\u001b[0m\n\u001b[1;32m    392\u001b[0m     \u001b[0msignature\u001b[0m \u001b[0;34m=\u001b[0m \u001b[0;34m'DD->D'\u001b[0m \u001b[0;32mif\u001b[0m \u001b[0misComplexType\u001b[0m\u001b[0;34m(\u001b[0m\u001b[0mt\u001b[0m\u001b[0;34m)\u001b[0m \u001b[0;32melse\u001b[0m \u001b[0;34m'dd->d'\u001b[0m\u001b[0;34m\u001b[0m\u001b[0;34m\u001b[0m\u001b[0m\n\u001b[1;32m    393\u001b[0m     \u001b[0mextobj\u001b[0m \u001b[0;34m=\u001b[0m \u001b[0mget_linalg_error_extobj\u001b[0m\u001b[0;34m(\u001b[0m\u001b[0m_raise_linalgerror_singular\u001b[0m\u001b[0;34m)\u001b[0m\u001b[0;34m\u001b[0m\u001b[0;34m\u001b[0m\u001b[0m\n\u001b[0;32m--> 394\u001b[0;31m     \u001b[0mr\u001b[0m \u001b[0;34m=\u001b[0m \u001b[0mgufunc\u001b[0m\u001b[0;34m(\u001b[0m\u001b[0ma\u001b[0m\u001b[0;34m,\u001b[0m \u001b[0mb\u001b[0m\u001b[0;34m,\u001b[0m \u001b[0msignature\u001b[0m\u001b[0;34m=\u001b[0m\u001b[0msignature\u001b[0m\u001b[0;34m,\u001b[0m \u001b[0mextobj\u001b[0m\u001b[0;34m=\u001b[0m\u001b[0mextobj\u001b[0m\u001b[0;34m)\u001b[0m\u001b[0;34m\u001b[0m\u001b[0;34m\u001b[0m\u001b[0m\n\u001b[0m\u001b[1;32m    395\u001b[0m \u001b[0;34m\u001b[0m\u001b[0m\n\u001b[1;32m    396\u001b[0m     \u001b[0;32mreturn\u001b[0m \u001b[0mwrap\u001b[0m\u001b[0;34m(\u001b[0m\u001b[0mr\u001b[0m\u001b[0;34m.\u001b[0m\u001b[0mastype\u001b[0m\u001b[0;34m(\u001b[0m\u001b[0mresult_t\u001b[0m\u001b[0;34m,\u001b[0m \u001b[0mcopy\u001b[0m\u001b[0;34m=\u001b[0m\u001b[0;32mFalse\u001b[0m\u001b[0;34m)\u001b[0m\u001b[0;34m)\u001b[0m\u001b[0;34m\u001b[0m\u001b[0;34m\u001b[0m\u001b[0m\n",
      "\u001b[0;32m~/.local/lib/python3.8/site-packages/numpy/linalg/linalg.py\u001b[0m in \u001b[0;36m_raise_linalgerror_singular\u001b[0;34m(err, flag)\u001b[0m\n\u001b[1;32m     86\u001b[0m \u001b[0;34m\u001b[0m\u001b[0m\n\u001b[1;32m     87\u001b[0m \u001b[0;32mdef\u001b[0m \u001b[0m_raise_linalgerror_singular\u001b[0m\u001b[0;34m(\u001b[0m\u001b[0merr\u001b[0m\u001b[0;34m,\u001b[0m \u001b[0mflag\u001b[0m\u001b[0;34m)\u001b[0m\u001b[0;34m:\u001b[0m\u001b[0;34m\u001b[0m\u001b[0;34m\u001b[0m\u001b[0m\n\u001b[0;32m---> 88\u001b[0;31m     \u001b[0;32mraise\u001b[0m \u001b[0mLinAlgError\u001b[0m\u001b[0;34m(\u001b[0m\u001b[0;34m\"Singular matrix\"\u001b[0m\u001b[0;34m)\u001b[0m\u001b[0;34m\u001b[0m\u001b[0;34m\u001b[0m\u001b[0m\n\u001b[0m\u001b[1;32m     89\u001b[0m \u001b[0;34m\u001b[0m\u001b[0m\n\u001b[1;32m     90\u001b[0m \u001b[0;32mdef\u001b[0m \u001b[0m_raise_linalgerror_nonposdef\u001b[0m\u001b[0;34m(\u001b[0m\u001b[0merr\u001b[0m\u001b[0;34m,\u001b[0m \u001b[0mflag\u001b[0m\u001b[0;34m)\u001b[0m\u001b[0;34m:\u001b[0m\u001b[0;34m\u001b[0m\u001b[0;34m\u001b[0m\u001b[0m\n",
      "\u001b[0;31mLinAlgError\u001b[0m: Singular matrix"
     ]
    }
   ],
   "source": [
    "import numpy as np\n",
    "from itertools import cycle\n",
    "\n",
    "# image de conjunto imagem de uma funç~ao\n",
    "image = [[0, 1, 0, 1], [1, 0, 1, 0], [1, 1, 1, 1]]\n",
    "image = cycle(image)\n",
    "\n",
    "for i in np.multiply(np.pi/180, alpha):\n",
    "    # coeffs de coeficientes\n",
    "    coeffs = np.array([[np.cos(i) ** 2, np.cos(i) * np.sin(i), - np.cos(i) ** 2, - np.cos(i) * np.sin(i)],\n",
    "              [np.cos(i) * np.sin(i), np.sin(i) ** 2, - np.cos(i) * np.sin(i), - np.sin(i) ** 2],\n",
    "              [- np.cos(i) ** 2, - np.cos(i) * np.sin(i), np.cos(i) ** 2, np.cos(i) * np.sin(i)],\n",
    "              [np.cos(i) * np.sin(i), - np.sin(i) ** 2, - np.cos(i) * np.sin(i), - np.sin(i) ** 2]])\n",
    "    u = next(image)\n",
    "    \n",
    "    print(coeffs)\n",
    "    \n",
    "    variaveis = np.linalg.solve(coeffs, u)\n",
    "#     print('Os resultados são: u2 = %.2em, u3 = %.2em, f1 = %.2eN e f4 = %.2N' % tuple(variaveis))"
   ]
  },
  {
   "cell_type": "code",
   "execution_count": 16,
   "metadata": {},
   "outputs": [
    {
     "data": {
      "text/plain": [
       "[1, 2, 3, 1, 2, 3]"
      ]
     },
     "execution_count": 16,
     "metadata": {},
     "output_type": "execute_result"
    }
   ],
   "source": [
    "[1, 2, 3]"
   ]
  },
  {
   "cell_type": "code",
   "execution_count": 28,
   "metadata": {},
   "outputs": [
    {
     "data": {
      "text/plain": [
       "0.5000000000000001"
      ]
     },
     "execution_count": 28,
     "metadata": {},
     "output_type": "execute_result"
    }
   ],
   "source": [
    "np.cos(60.* np.pi/180.)"
   ]
  },
  {
   "cell_type": "code",
   "execution_count": 25,
   "metadata": {},
   "outputs": [
    {
     "ename": "AttributeError",
     "evalue": "module 'numpy' has no attribute 'rad'",
     "output_type": "error",
     "traceback": [
      "\u001b[0;31m---------------------------------------------------------------------------\u001b[0m",
      "\u001b[0;31mAttributeError\u001b[0m                            Traceback (most recent call last)",
      "\u001b[0;32m<ipython-input-25-dfaa88a21ec6>\u001b[0m in \u001b[0;36m<module>\u001b[0;34m\u001b[0m\n\u001b[0;32m----> 1\u001b[0;31m \u001b[0mnp\u001b[0m\u001b[0;34m.\u001b[0m\u001b[0mrad\u001b[0m\u001b[0;34m(\u001b[0m\u001b[0;36m90\u001b[0m\u001b[0;34m)\u001b[0m\u001b[0;34m\u001b[0m\u001b[0;34m\u001b[0m\u001b[0m\n\u001b[0m",
      "\u001b[0;32m~/.local/lib/python3.8/site-packages/numpy/__init__.py\u001b[0m in \u001b[0;36m__getattr__\u001b[0;34m(attr)\u001b[0m\n\u001b[1;32m    212\u001b[0m                 \u001b[0;32mreturn\u001b[0m \u001b[0mTester\u001b[0m\u001b[0;34m\u001b[0m\u001b[0;34m\u001b[0m\u001b[0m\n\u001b[1;32m    213\u001b[0m             \u001b[0;32melse\u001b[0m\u001b[0;34m:\u001b[0m\u001b[0;34m\u001b[0m\u001b[0;34m\u001b[0m\u001b[0m\n\u001b[0;32m--> 214\u001b[0;31m                 raise AttributeError(\"module {!r} has no attribute \"\n\u001b[0m\u001b[1;32m    215\u001b[0m                                      \"{!r}\".format(__name__, attr))\n\u001b[1;32m    216\u001b[0m \u001b[0;34m\u001b[0m\u001b[0m\n",
      "\u001b[0;31mAttributeError\u001b[0m: module 'numpy' has no attribute 'rad'"
     ]
    }
   ],
   "source": [
    "np.rad(90)"
   ]
  },
  {
   "cell_type": "code",
   "execution_count": null,
   "metadata": {},
   "outputs": [],
   "source": []
  }
 ],
 "metadata": {
  "kernelspec": {
   "display_name": "Python 3",
   "language": "python",
   "name": "python3"
  },
  "language_info": {
   "codemirror_mode": {
    "name": "ipython",
    "version": 3
   },
   "file_extension": ".py",
   "mimetype": "text/x-python",
   "name": "python",
   "nbconvert_exporter": "python",
   "pygments_lexer": "ipython3",
   "version": "3.8.3"
  }
 },
 "nbformat": 4,
 "nbformat_minor": 4
}
