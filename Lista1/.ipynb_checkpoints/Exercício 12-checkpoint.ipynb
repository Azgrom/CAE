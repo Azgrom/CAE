{
 "cells": [
  {
   "cell_type": "markdown",
   "metadata": {},
   "source": [
    "# Exercício 12\n",
    "\n",
    "**Aluno:** Rafael Lúcio Negrão Cordeiro<br/>\n",
    "**Matrícula:** 201310323<br/>\n",
    "**Disciplina:** CET961 - Engenharia Assistida por Computador"
   ]
  },
  {
   "cell_type": "code",
   "execution_count": 1,
   "metadata": {},
   "outputs": [],
   "source": [
    "E = 100e9 # GPa\n",
    "A1 = 0.0001 # m²\n",
    "A2 = 0.0002 # m²\n",
    "\n",
    "Fa = -2_000 # N\n",
    "Fb = 5_000 # N\n",
    "\n",
    "A_B = 1 # m\n",
    "B_C = 1 # m\n",
    "\n",
    "k = lambda Elastici, Area, Comprime: Elastici * Area / Comprime\n",
    "\n",
    "k1 = k(E, A1, A_B) # N / m\n",
    "k2 = k(E, A2, B_C) # N / m"
   ]
  },
  {
   "cell_type": "markdown",
   "metadata": {},
   "source": [
    "#### Compondo o sistema na notaçao matricial $[K^{(g)}]\\{U^{(g)}\\} = \\{F^{(g)}\\}$, temos:\n",
    "\n",
    "$$\n",
    "\\overbrace{\n",
    "    \\begin{bmatrix}\n",
    "        k_{\\vec{AB}} & -k_{\\vec{AB}} & 0\\\\\n",
    "        -k_{\\vec{AB}} & k_{\\vec{AB}} + k_{\\vec{BC}} & -k_{\\vec{BC}}\\\\\n",
    "        0 & -k_{\\vec{BC}} & k_{\\vec{BC}}\n",
    "    \\end{bmatrix}\n",
    "}^{[K^{(g)}]}\n",
    "\\overbrace{\n",
    "    \\begin{Bmatrix}\n",
    "        u_3\\\\\n",
    "        u_1\\\\\n",
    "        u_2\n",
    "    \\end{Bmatrix}\n",
    "}^{\\{U^{(g)}\\}}\n",
    "=\\overbrace{\n",
    "    \\begin{Bmatrix}\n",
    "        f_1\\\\\n",
    "        f_2\\\\\n",
    "        f_3\n",
    "    \\end{Bmatrix}\n",
    "}^{\\{F^{(g)}\\}}\n",
    "$$\n",
    "Onde, considerando que queremos apenas os deslocamentos dos corpos e as forças nas paredes, temos:\n",
    "$$\n",
    "\\begin{bmatrix}\n",
    "    k_{\\vec{AB}} & -k_{\\vec{AB}} & 0\\\\\n",
    "    -k_{\\vec{AB}} & k_{\\vec{AB}} + k_{\\vec{BC}} & -k_{\\vec{BC}}\\\\\n",
    "    0 & -k_{\\vec{BC}} & k_{\\vec{BC}}\n",
    "\\end{bmatrix}\n",
    "\\begin{Bmatrix}\n",
    "    0\\\\\n",
    "    u_1\\\\\n",
    "    u_2\n",
    "\\end{Bmatrix}=\\begin{Bmatrix}\n",
    "    R_1\\\\\n",
    "    F_B\\\\\n",
    "    F_A\n",
    "\\end{Bmatrix}\n",
    "$$"
   ]
  },
  {
   "cell_type": "markdown",
   "metadata": {},
   "source": [
    "#### Ao executar as multiplicações das matrizes, temos:\n",
    "$$\n",
    "\\begin{equation}\n",
    "    \\begin{cases}\n",
    "        -k_{\\vec{AB}}u_1 = R_1\\\\\n",
    "        (k_{\\vec{AB}} + k_{\\vec{BC}})u_1 - k_{\\vec{BC}}u_2 = F_B\\\\\n",
    "        -k_{\\vec{BC}}u_1 + k_{\\vec{BC}}u_2 = F_A\n",
    "    \\end{cases}\n",
    "\\end{equation}\n",
    "$$\n",
    "\n",
    "Se isolarmos todas as variáveis para o lado esquerdo da equaçao, teremos: $ \\begin{equation}\n",
    "    \\begin{cases}\n",
    "        -k_{\\vec{AB}}u_1 + 0u_2 - R_1 = 0\\\\\n",
    "        (k_{\\vec{AB}} + k_{\\vec{BC}})u_1 - k_{\\vec{BC}}u_2 + 0R_1= F_B\\\\\n",
    "        -k_{\\vec{BC}}u_1 + k_{\\vec{BC}}u_2 + 0R_1 = F_A\n",
    "    \\end{cases}\n",
    "\\end{equation} $\n",
    "\n",
    "Como já sabemos os valores de $k_{\\vec{AB}}$, $k_{\\vec{BC}}$ e $F_B$. Da algebra linear, verifica-se que pode-se resolver um sistema de 3 equaçoes com 3 variáveis com uma matriz de seus coeficientes:\n",
    "\n",
    "$$\n",
    "\\begin{bmatrix}\n",
    "    -k_{\\vec{AB}} & 0 & -1\\\\\n",
    "    (k_{\\vec{AB}} + k_{\\vec{BC}}) & - k_{\\vec{BC}} & 0\\\\\n",
    "    -k_{\\vec{BC}} & k_{\\vec{BC}} & 0\n",
    "\\end{bmatrix}\n",
    "\\begin{bmatrix}\n",
    "    u_1\\\\\n",
    "    u_2\\\\\n",
    "    R_1\n",
    "\\end{bmatrix}\n",
    "=\n",
    "\\begin{bmatrix}\n",
    "    0\\\\\n",
    "    F_B\\\\\n",
    "    F_A\n",
    "\\end{bmatrix}\n",
    "$$\n",
    "\n",
    "Existe uma biblioteca no python dedicada a resolver equações organizadas na forma matricial acima. No pacote numpy, módulo de algebra linear. O código a seguir criará os vetores da matriz acima e executará o módulo de algebra linear do numpy, já entregando os resultados."
   ]
  },
  {
   "cell_type": "code",
   "execution_count": 5,
   "metadata": {},
   "outputs": [],
   "source": [
    "import numpy as np\n",
    "\n",
    "# coeffs de coeficientes\n",
    "coeffs = [[-k1, 0,  -1],\n",
    "          [ k1 + k2, -k2, 0],\n",
    "          [ -k2,  k2,  0]]\n",
    "\n",
    "# image de conjunto imagem de uma funç~ao\n",
    "image = [0, Fb, Fa]\n",
    "\n",
    "# Transformando os vetores nativos python em vetores numpy\n",
    "coeffs = np.array(coeffs)\n",
    "image = np.array(image)"
   ]
  },
  {
   "cell_type": "code",
   "execution_count": 6,
   "metadata": {},
   "outputs": [
    {
     "data": {
      "text/plain": [
       "(array([[-1.e+07,  0.e+00, -1.e+00],\n",
       "        [ 3.e+07, -2.e+07,  0.e+00],\n",
       "        [-2.e+07,  2.e+07,  0.e+00]]), array([    0,  5000, -2000]))"
      ]
     },
     "execution_count": 6,
     "metadata": {},
     "output_type": "execute_result"
    }
   ],
   "source": [
    "# Visualizando o conteúdo dos vetores\n",
    "\n",
    "coeffs, image"
   ]
  },
  {
   "cell_type": "code",
   "execution_count": 7,
   "metadata": {},
   "outputs": [
    {
     "name": "stdout",
     "output_type": "stream",
     "text": [
      "Os resultados são: u1 = 3.00e-04m, u2 = 2.00e-04m, R1 = -3.00e+03N\n"
     ]
    }
   ],
   "source": [
    "# Resolvendo ele com o módulo de álgebra linear\n",
    "\n",
    "variaveis = np.linalg.solve(coeffs, image)\n",
    "\n",
    "print('Os resultados são: u1 = %.2em, u2 = %.2em, R1 = %.2eN' % tuple(variaveis))"
   ]
  },
  {
   "cell_type": "code",
   "execution_count": null,
   "metadata": {},
   "outputs": [],
   "source": []
  }
 ],
 "metadata": {
  "kernelspec": {
   "display_name": "Python 3",
   "language": "python",
   "name": "python3"
  },
  "language_info": {
   "codemirror_mode": {
    "name": "ipython",
    "version": 3
   },
   "file_extension": ".py",
   "mimetype": "text/x-python",
   "name": "python",
   "nbconvert_exporter": "python",
   "pygments_lexer": "ipython3",
   "version": "3.7.4"
  }
 },
 "nbformat": 4,
 "nbformat_minor": 4
}
