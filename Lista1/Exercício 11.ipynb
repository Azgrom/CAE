{
 "cells": [
  {
   "cell_type": "markdown",
   "metadata": {},
   "source": [
    "# Exercício 11\n",
    "\n",
    "**Aluno:** Rafael Lúcio Negrão Cordeiro<br/>\n",
    "**Matrícula:** 201310323<br/>\n",
    "**Disciplina:** CET961 - Engenharia Assistida por Computador"
   ]
  },
  {
   "cell_type": "code",
   "execution_count": 2,
   "metadata": {},
   "outputs": [],
   "source": [
    "Fb = 400 # lb\n",
    "\n",
    "k1 = 2000 # Lb / in\n",
    "k2 = 500  # Lb / in\n",
    "k3 = 500  # Lb / in"
   ]
  },
  {
   "cell_type": "markdown",
   "metadata": {},
   "source": [
    "#### Compondo o sistema na notaçao matricial $[K^{(g)}]\\{U^{(g)}\\} = \\{F^{(g)}\\}$, temos:\n",
    "\n",
    "$$\n",
    "\\overbrace{\n",
    "    \\begin{bmatrix}\n",
    "        k_1 & -k_1 & 0 & 0\\\\\n",
    "        -k_1 & k_1 + k_2 + k_3 & -k_2 & -k_3\\\\\n",
    "        0 & -k_2 & k_2 & 0\\\\\n",
    "        0 & -k_3 & 0 & k_3\n",
    "    \\end{bmatrix}\n",
    "}^{[K^{(g)}]}\n",
    "\\overbrace{\n",
    "    \\begin{Bmatrix}\n",
    "        u_1\\\\\n",
    "        u_2\\\\\n",
    "        u_3\\\\\n",
    "        u_4\n",
    "    \\end{Bmatrix}\n",
    "}^{\\{U^{(g)}\\}}\n",
    "=\\overbrace{\n",
    "    \\begin{Bmatrix}\n",
    "        f_1\\\\\n",
    "        f_2\\\\\n",
    "        f_3\\\\\n",
    "        f_4\n",
    "    \\end{Bmatrix}\n",
    "}^{\\{F^{(g)}\\}}\n",
    "$$\n",
    "Onde, considerando que queremos apenas os deslocamentos dos corpos e as forças nas paredes, temos:\n",
    "$$\n",
    "\\begin{bmatrix}\n",
    "    k_1 & -k_1 & 0 & 0\\\\\n",
    "    -k_1 & k_1 + k_2 + k_3 & -k_2 & -k_3\\\\\n",
    "    0 & -k_2 & k_2 & 0\\\\\n",
    "    0 & -k_3 & 0 & k_3\n",
    "\\end{bmatrix}\n",
    "\\begin{Bmatrix}\n",
    "    0\\\\\n",
    "    u_2\\\\\n",
    "    0\\\\\n",
    "    0\n",
    "\\end{Bmatrix}=\\begin{Bmatrix}\n",
    "    R_1\\\\\n",
    "    F_B\\\\\n",
    "    R_3\\\\\n",
    "    R_4\n",
    "\\end{Bmatrix}\n",
    "$$"
   ]
  },
  {
   "cell_type": "markdown",
   "metadata": {},
   "source": [
    "#### Ao executar as multiplicações das matrizes, temos:\n",
    "$$\n",
    "\\begin{equation}\n",
    "    \\begin{cases}\n",
    "        -k_1u_2 = R_1\\\\\n",
    "        (k_1 + k_2 + k_3)u_2 = F_B\\\\\n",
    "        -k_2u_2 = R_3\\\\\n",
    "        -k_2u_2 = R_4\n",
    "    \\end{cases}\n",
    "\\end{equation}\n",
    "$$\n",
    "\n",
    "Se isolarmos todas as variáveis para o lado esquerdo da equaçao, teremos: $ \\begin{equation}\n",
    "    \\begin{cases}\n",
    "       -k_1u_2 - R_1 + 0R_3 + 0R_4 = 0\\\\\n",
    "        (k_1 + k_2 + k_3)u_2 + 0R_1 + 0R_3 + 0R_4 = F_B\\\\\n",
    "        -k_2u_2 + 0R_1 - R_3 + 0R_4 = 0\\\\\n",
    "        -k_3u_2 + 0R_1 + 0R_3 - R_4 = 0\n",
    "    \\end{cases}\n",
    "\\end{equation} $\n",
    "\n",
    "Como já sabemos os valores de $k_{\\vec{AB}}$, $k_{\\vec{BC}}$ e $F_B$. Da algebra linear, verifica-se que pode-se resolver um sistema de 3 equaçoes com 3 variáveis com uma matriz de seus coeficientes:\n",
    "\n",
    "$$\n",
    "\\begin{bmatrix}\n",
    "    -k_1 & -1 & 0 & 0\\\\\n",
    "    (k_1 + k_2 + k_3) & 0 & 0 & 0\\\\\n",
    "    -k_2 & 0 & -1 & 0\\\\\n",
    "    -k_3 & 0 & 0 & -1\n",
    "\\end{bmatrix}\n",
    "\\begin{bmatrix}\n",
    "    0\\\\\n",
    "    u_2\\\\\n",
    "    0\\\\\n",
    "    0\n",
    "\\end{bmatrix}\n",
    "=\n",
    "\\begin{bmatrix}\n",
    "    0\\\\\n",
    "    F_B\\\\\n",
    "    0\\\\\n",
    "    0\n",
    "\\end{bmatrix}\n",
    "$$\n",
    "\n",
    "Existe uma biblioteca no python dedicada a resolver equações organizadas na forma matricial acima. No pacote numpy, módulo de algebra linear. O código a seguir criará os vetores da matriz acima e executará o módulo de algebra linear do numpy, já entregando os resultados."
   ]
  },
  {
   "cell_type": "code",
   "execution_count": 3,
   "metadata": {},
   "outputs": [],
   "source": [
    "import numpy as np\n",
    "\n",
    "# coeffs de coeficientes\n",
    "coeffs = [[     -k1,     -1,  0,  0],\n",
    "          [ k1 + k2 + k3, 0,  0,  0],\n",
    "          [     -k2,      0, -1,  0],\n",
    "          [     -k3,      0,  0, -1]]\n",
    "\n",
    "# image de conjunto imagem de uma funç~ao\n",
    "image = [0, Fb, 0, 0]\n",
    "\n",
    "# Transformando os vetores nativos python em vetores numpy\n",
    "coeffs = np.array(coeffs)\n",
    "image = np.array(image)"
   ]
  },
  {
   "cell_type": "code",
   "execution_count": 4,
   "metadata": {},
   "outputs": [
    {
     "data": {
      "text/plain": [
       "(array([[-2000,    -1,     0,     0],\n",
       "        [ 3000,     0,     0,     0],\n",
       "        [ -500,     0,    -1,     0],\n",
       "        [ -500,     0,     0,    -1]]), array([  0, 400,   0,   0]))"
      ]
     },
     "execution_count": 4,
     "metadata": {},
     "output_type": "execute_result"
    }
   ],
   "source": [
    "# Visualizando o conteúdo dos vetores\n",
    "\n",
    "coeffs, image"
   ]
  },
  {
   "cell_type": "code",
   "execution_count": 6,
   "metadata": {},
   "outputs": [
    {
     "name": "stdout",
     "output_type": "stream",
     "text": [
      "Os resultados são: u2 = 1.33e-01in, R1 = -2.67e+02N, R3 = -6.67e+01N, R4 = -6.67e+01N\n"
     ]
    }
   ],
   "source": [
    "# Resolvendo ele com o módulo de álgebra linear\n",
    "\n",
    "variaveis = np.linalg.solve(coeffs, image)\n",
    "\n",
    "print('Os resultados são: u2 = %.2ein, R1 = %.2eN, R3 = %.2eN, R4 = %.2eN' % tuple(variaveis))"
   ]
  },
  {
   "cell_type": "code",
   "execution_count": null,
   "metadata": {},
   "outputs": [],
   "source": []
  }
 ],
 "metadata": {
  "kernelspec": {
   "display_name": "Python 3",
   "language": "python",
   "name": "python3"
  },
  "language_info": {
   "codemirror_mode": {
    "name": "ipython",
    "version": 3
   },
   "file_extension": ".py",
   "mimetype": "text/x-python",
   "name": "python",
   "nbconvert_exporter": "python",
   "pygments_lexer": "ipython3",
   "version": "3.7.4"
  }
 },
 "nbformat": 4,
 "nbformat_minor": 4
}
