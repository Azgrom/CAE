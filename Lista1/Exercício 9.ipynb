{
 "cells": [
  {
   "cell_type": "markdown",
   "metadata": {},
   "source": [
    "# Exercício 8\n",
    "\n",
    "**Aluno:** Rafael Lúcio Negrão Cordeiro<br/>\n",
    "**Matrícula:** 201310323<br/>\n",
    "**Disciplina:** CET961 - Engenharia Assistida por Computador"
   ]
  },
  {
   "cell_type": "code",
   "execution_count": 16,
   "metadata": {},
   "outputs": [],
   "source": [
    "import numpy as np\n",
    "\n",
    "E = 100e6 # MPa\n",
    "\n",
    "Fb = 10_000 # N\n",
    "\n",
    "seg_x = { # Segmento de x em metros\n",
    "    'A_B': [0, 0.25],    # Medidas das extremidades do comprimento da partição AB\n",
    "    'B_C': [0.25, 0.50], # Medidas das extremidades do comprimento da partição BC\n",
    "    'C_D': [0.50, 0.75], # Medidas das extremidades do comprimento da partição CD\n",
    "    'D_E': [0.75, 1.00]  # Medidas das extremidades do comprimento da partição DE\n",
    "}\n",
    "\n",
    "# Raio em função de x\n",
    "r = lambda x: 0.05 - (0.04 * x) \n",
    "\n",
    "# Área de um círculo\n",
    "a = lambda x: np.pi * r(x)**2 \n",
    "\n",
    "# Média geométrica de duas áreas nas partições informadas no enunciado\n",
    "a_e = lambda x, y: np.sqrt(x * y) \n",
    "\n",
    "# Constante de mola em função da Área, Comprimento e Módulo de elasticidade\n",
    "k = lambda Elastici, Area, Comprime: Elastici * Area / Comprime\n",
    "\n",
    "# Constantes de mola das quatro partições informadas no enunciado\n",
    "ks = [k(E, a_e(*map(a, map(r, arg))), 0.25) for arg in seg_x.values()]"
   ]
  },
  {
   "cell_type": "code",
   "execution_count": 17,
   "metadata": {},
   "outputs": [
    {
     "name": "stdout",
     "output_type": "stream",
     "text": [
      "\n",
      "k_AB = 2.92e+06N/m\n",
      "k_BC = 2.97e+06N/m\n",
      "k_CD = 3.02e+06N/m\n",
      "k_DE = 3.07e+06N/m\n"
     ]
    }
   ],
   "source": [
    "# Para poder conferir os valores das constantes de mola\n",
    "\n",
    "print(\"\"\"\n",
    "k_AB = %.2eN/m\n",
    "k_BC = %.2eN/m\n",
    "k_CD = %.2eN/m\n",
    "k_DE = %.2eN/m\"\"\" % tuple(ks))"
   ]
  },
  {
   "cell_type": "markdown",
   "metadata": {},
   "source": [
    "#### Compondo o sistema na notaçao matricial $[K^{(g)}]\\{U^{(g)}\\} = \\{F^{(g)}\\}$, temos:\n",
    "\n",
    "$$\n",
    "\\overbrace{\n",
    "    \\begin{bmatrix}\n",
    "        k_{\\vec{AB}} & -k_{\\vec{AB}} & 0 & 0 & 0\\\\\n",
    "        -k_{\\vec{AB}} & k_{\\vec{AB}} + k_{\\vec{BC}} & -k_{\\vec{BC}} & 0 & 0\\\\\n",
    "        0 & -k_{\\vec{BC}} & k_{\\vec{BC}} + k_{\\vec{CD}} & -k_{\\vec{CD}} & 0\\\\\n",
    "        0 & 0 & -k_{\\vec{CD}} & k_{\\vec{CD}} + k_{\\vec{DE}} & -k_{\\vec{DE}}\\\\\n",
    "        0 & 0 & 0 & -k_{\\vec{DE}} & k_{\\vec{DE}}\n",
    "    \\end{bmatrix}\n",
    "}^{[K^{(g)}]}\n",
    "\\overbrace{\n",
    "    \\begin{Bmatrix}\n",
    "        u_1\\\\\n",
    "        u_2\\\\\n",
    "        u_3\\\\\n",
    "        u_4\\\\\n",
    "        u_5\n",
    "    \\end{Bmatrix}\n",
    "}^{\\{U^{(g)}\\}}\n",
    "=\\overbrace{\n",
    "    \\begin{Bmatrix}\n",
    "        f_1\\\\\n",
    "        f_2\\\\\n",
    "        f_3\\\\\n",
    "        f_4\\\\\n",
    "        f_5\n",
    "    \\end{Bmatrix}\n",
    "}^{\\{F^{(g)}\\}}\n",
    "$$\n",
    "\n",
    "Onde, considerando que queremos apenas os deslocamentos dos corpos e as forças nas paredes, temos:\n",
    "\n",
    "$$\n",
    "\\begin{bmatrix}\n",
    "    k_{\\vec{AB}} & -k_{\\vec{AB}} & 0 & 0 & 0\\\\\n",
    "    -k_{\\vec{AB}} & k_{\\vec{AB}} + k_{\\vec{BC}} & -k_{\\vec{BC}} & 0 & 0\\\\\n",
    "    0 & -k_{\\vec{BC}} & k_{\\vec{BC}} + k_{\\vec{CD}} & -k_{\\vec{CD}} & 0\\\\\n",
    "    0 & 0 & -k_{\\vec{CD}} & k_{\\vec{CD}} + k_{\\vec{DE}} & -k_{\\vec{DE}}\\\\\n",
    "    0 & 0 & 0 & -k_{\\vec{DE}} & k_{\\vec{DE}}\n",
    "\\end{bmatrix}\n",
    "\\begin{Bmatrix}\n",
    "    0\\\\\n",
    "    u_2\\\\\n",
    "    u_3\\\\\n",
    "    u_4\\\\\n",
    "    0\n",
    "\\end{Bmatrix}=\\begin{Bmatrix}\n",
    "    R_1\\\\\n",
    "    0\\\\\n",
    "    F_3\\\\\n",
    "    0\\\\\n",
    "    R_5\n",
    "\\end{Bmatrix}\n",
    "$$"
   ]
  },
  {
   "cell_type": "markdown",
   "metadata": {},
   "source": [
    "#### Ao executar as multiplicações das matrizes, temos:\n",
    "\n",
    "$$\n",
    "\\begin{equation}\n",
    "    \\begin{cases}\n",
    "        - k_{\\vec{AB}}u_2 = R_1\\\\\n",
    "        (k_{\\vec{AB}} + k_{\\vec{BC}})u_2 - k_{\\vec{BC}}u_3 = 0\\\\\n",
    "        - k_{\\vec{BC}}u_2 + (k_{\\vec{BC}} + k_{\\vec{CD}})u_3 - k_{\\vec{CD}}u_4 = F_3\\\\\n",
    "        - k_{\\vec{CD}}u_3 + (k_{\\vec{CD}} + k_{\\vec{DE}})u_4 = 0\\\\\n",
    "        - k_{\\vec{DE}}u_4 = R_5 = 0\n",
    "    \\end{cases}\n",
    "\\end{equation}\n",
    "$$\n",
    "\n",
    "Se isolarmos todas as variáveis para o lado esquerdo da equaçao, teremos: $ \n",
    "\\begin{equation}\n",
    "    \\begin{cases}\n",
    "        -k_{\\vec{AB}}u_2 + 0u_3 + 0u_4 - R_1  + 0R_5= 0\\\\\n",
    "        (k_{\\vec{AB}} + k_{\\vec{BC}})u_2 - k_{\\vec{BC}}u_3  + 0u_4 + 0R_1 + 0R_5 = 0\\\\\n",
    "        -k_{\\vec{BC}}u_2 + (k_{\\vec{BC}} + k_{\\vec{CD}})u_3 - k_{\\vec{CD}}u_4 + 0R_1 + 0R_5 = F_3\\\\\n",
    "        0u_2 - k_{\\vec{CD}}u_3 + (k_{\\vec{CD}} + k_{\\vec{DE}})u_4 + 0R_1 + 0R_5 = 0\\\\\n",
    "        0u_2 + 0u_3 - k_{\\vec{DE}}u_4 + 0R_1 - R_5 = 0\n",
    "    \\end{cases}\n",
    "\\end{equation}\n",
    "$\n",
    "\n",
    "Como já sabemos os valores de $k_{\\vec{AB}}$, $k_{\\vec{BC}}$, $k_{\\vec{CD}}$, $k_{\\vec{DE}}$ e $F_B$. Da algebra linear, verifica-se que pode-se resolver um sistema de 5 equaçoes com 5 variáveis com uma matriz de seus coeficientes:\n",
    "\n",
    "$$\n",
    "\\begin{bmatrix}\n",
    "    -k_{\\vec{AB}} & 0 & 0 & -1 & 0\\\\\n",
    "    (k_{\\vec{AB}} + k_{\\vec{BC}}) & -k_{\\vec{BC}} & 0 & 0 & 0\\\\\n",
    "    -k_{\\vec{BC}} & (k_{\\vec{BC}} + k_{\\vec{CD}}) & - k_{\\vec{CD}} & 0 & 0\\\\\n",
    "    0 & - k_{\\vec{CD}} & (k_{\\vec{CD}} + k_{\\vec{DE}}) & 0 & 0\\\\\n",
    "    0 & 0 & - k_{\\vec{DE}} & 0 & -1\n",
    "\\end{bmatrix}\n",
    "\\begin{bmatrix}\n",
    "    0\\\\\n",
    "    u_2\\\\\n",
    "    u_3\\\\\n",
    "    u_4\\\\\n",
    "    0\n",
    "\\end{bmatrix}\n",
    "=\n",
    "\\begin{bmatrix}\n",
    "    1\\\\\n",
    "    0\\\\\n",
    "    F_B\\\\\n",
    "    0\\\\\n",
    "    1\n",
    "\\end{bmatrix}\n",
    "$$\n",
    "\n",
    "Existe uma biblioteca no python dedicada a resolver equações organizadas na forma matricial acima. No pacote numpy, módulo de algebra linear. O código a seguir criará os vetores da matriz acima e executará o módulo de algebra linear do numpy, já entregando os resultados."
   ]
  },
  {
   "cell_type": "code",
   "execution_count": 18,
   "metadata": {},
   "outputs": [],
   "source": [
    "import numpy as np\n",
    "\n",
    "# coeffs de coeficientes\n",
    "coeffs = [[    -ks[0],       0,      0,          -1,  0],\n",
    "          [ks[0] + ks[1],  -ks[1],   0,           0,  0],\n",
    "          [    -ks[1], ks[1] + ks[2],  -ks[2],    0,  0],\n",
    "          [      0,        -ks[2], ks[2] + ks[3], 0,  0],\n",
    "          [      0,          0,        -ks[3],    0, -1]]\n",
    "\n",
    "# image de conjunto imagem de uma funç~ao\n",
    "image = [1, 0, Fb, 0, 1]\n",
    "\n",
    "# Transformando os vetores nativos python em vetores numpy\n",
    "coeffs = np.array(coeffs)\n",
    "image = np.array(image)"
   ]
  },
  {
   "cell_type": "code",
   "execution_count": 19,
   "metadata": {},
   "outputs": [
    {
     "data": {
      "text/plain": [
       "(array([[-2.91941922e+06,  0.00000000e+00,  0.00000000e+00,\n",
       "         -1.00000000e+00,  0.00000000e+00],\n",
       "        [ 5.88749543e+06, -2.96807621e+06,  0.00000000e+00,\n",
       "          0.00000000e+00,  0.00000000e+00],\n",
       "        [-2.96807621e+06,  5.98521153e+06, -3.01713532e+06,\n",
       "          0.00000000e+00,  0.00000000e+00],\n",
       "        [ 0.00000000e+00, -3.01713532e+06,  6.08373187e+06,\n",
       "          0.00000000e+00,  0.00000000e+00],\n",
       "        [ 0.00000000e+00,  0.00000000e+00, -3.06659655e+06,\n",
       "          0.00000000e+00, -1.00000000e+00]]),\n",
       " array([    1,     0, 10000,     0,     1]))"
      ]
     },
     "execution_count": 19,
     "metadata": {},
     "output_type": "execute_result"
    }
   ],
   "source": [
    "# Visualizando o conteúdo dos vetores\n",
    "\n",
    "coeffs, image"
   ]
  },
  {
   "cell_type": "code",
   "execution_count": 20,
   "metadata": {},
   "outputs": [
    {
     "name": "stdout",
     "output_type": "stream",
     "text": [
      "Os resultados são: u2 = 1.68e-03m, u3 = 3.34e-03m, u4 = 1.66e-03m, R1 = -4.92e+03N, R5 = -5.08e+03N\n"
     ]
    }
   ],
   "source": [
    "# Resolvendo ele com o módulo de álgebra linear\n",
    "\n",
    "variaveis = np.linalg.solve(coeffs, image)\n",
    "\n",
    "print('Os resultados são: u2 = %.2em, u3 = %.2em, u4 = %.2em, R1 = %.2eN, R5 = %.2eN' % tuple(variaveis))"
   ]
  },
  {
   "cell_type": "code",
   "execution_count": null,
   "metadata": {},
   "outputs": [],
   "source": []
  }
 ],
 "metadata": {
  "kernelspec": {
   "display_name": "Python 3",
   "language": "python",
   "name": "python3"
  },
  "language_info": {
   "codemirror_mode": {
    "name": "ipython",
    "version": 3
   },
   "file_extension": ".py",
   "mimetype": "text/x-python",
   "name": "python",
   "nbconvert_exporter": "python",
   "pygments_lexer": "ipython3",
   "version": "3.7.4"
  }
 },
 "nbformat": 4,
 "nbformat_minor": 4
}
