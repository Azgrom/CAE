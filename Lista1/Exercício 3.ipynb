{
 "cells": [
  {
   "cell_type": "markdown",
   "metadata": {},
   "source": [
    "# Exercício 3\n",
    "\n",
    "**Aluno:** Rafael Lúcio Negrão Cordeiro<br/>\n",
    "**Matrícula:** 201310323<br/>\n",
    "**Disciplina:** CET961 - Engenharia Assistida por Computador"
   ]
  },
  {
   "cell_type": "code",
   "execution_count": 1,
   "metadata": {},
   "outputs": [],
   "source": [
    "k1 = 500 # N / mm\n",
    "k2 = 400 # N / mm\n",
    "k3 = 600 # N / mm\n",
    "k4 = 200 # N / mm\n",
    "k5 = 400 # N / mm\n",
    "k6 = 300 # N / mm\n",
    "\n",
    "f3 = 1000 # N\n",
    "\n",
    "u1 = u5 = 0\n",
    "\n",
    "u1 = u4 = 0 # Unidade de deslocamento"
   ]
  },
  {
   "cell_type": "markdown",
   "metadata": {},
   "source": [
    "#### Compondo o sistema na notaçao matricial $[K^{(g)}]\\{U^{(g)}\\} = \\{F^{(g)}\\}$, temos:\n",
    "\n",
    "$$\n",
    "\\overbrace{\n",
    "    \\begin{bmatrix}\n",
    "        k_1 + k_4 & -k_1 & -k_4 & 0 & 0\\\\\n",
    "        -k_1 & k_1 + k_2 + k_3 & -k_3 & -k_2 & 0\\\\\n",
    "        -k_4 & -k_3 & k_3 + k_4 + k_5 & -k_5 & 0\\\\\n",
    "        0 & -k_2 & -k_5 & k_2 + k_5 + k_6 & -k_6\\\\\n",
    "        0 & 0 & 0 & -k_6 & k_6\n",
    "    \\end{bmatrix}\n",
    "}^{[K^{(g)}]}\n",
    "\\overbrace{\n",
    "    \\begin{Bmatrix}\n",
    "        u_1\\\\\n",
    "        u_2\\\\\n",
    "        u_3\\\\\n",
    "        u_4\\\\\n",
    "        u_5\n",
    "    \\end{Bmatrix}\n",
    "}^{\\{U^{(g)}\\}}=\\overbrace{\n",
    "    \\begin{Bmatrix}\n",
    "        f_1\\\\\n",
    "        f_2\\\\\n",
    "        f_3\\\\\n",
    "        f_4\\\\\n",
    "        f_5\n",
    "    \\end{Bmatrix}\n",
    "}^{\\{F^{(g)}\\}}\n",
    "$$\n",
    "Onde, considerando que queremos apenas os deslocamentos dos corpos e as forças nas paredes, temos:\n",
    "$$\n",
    "\\begin{bmatrix}\n",
    "    700 & -500 & -200 & 0 & 0\\\\\n",
    "    -500 & 1500 & -600 & -400 & 0\\\\\n",
    "    -200 & -600 & 1200 & -400 & 0\\\\\n",
    "    0 & -400 & -400 & 1100 & -300\\\\\n",
    "    0 & 0 & 0 & -300 & 300\n",
    "\\end{bmatrix}\n",
    "\\begin{Bmatrix}\n",
    "    0\\\\\n",
    "    0\\\\\n",
    "    u_3\\\\\n",
    "    u_4\\\\\n",
    "    0\n",
    "\\end{Bmatrix}=\\begin{Bmatrix}\n",
    "    R_1\\\\\n",
    "    R_2\\\\\n",
    "    1000\\\\\n",
    "    0\\\\\n",
    "    R_5\n",
    "\\end{Bmatrix}\n",
    "$$"
   ]
  },
  {
   "cell_type": "markdown",
   "metadata": {},
   "source": [
    "#### Ao executar as multiplicações das matrizes, temos:\n",
    "$$\n",
    "\\begin{equation}\n",
    "    \\begin{cases}\n",
    "        -200u_3 = R_1\\\\\n",
    "        -600u_3 - 400u_4 = R_2\\\\\n",
    "        1200u_3 - 400u_4 = 1000\\\\\n",
    "        -400u_3 + 1100u_4= 0\\\\\n",
    "        -300u_4 = R5\n",
    "    \\end{cases}\n",
    "\\end{equation}\n",
    "$$\n",
    "\n",
    "Se isolarmos todas as variáveis para o lado esquerdo da equaçao, teremos: $ \\begin{equation}\n",
    "    \\begin{cases}\n",
    "       -200u_3 + 0u_4 - R_1 + 0R_2 + 0R_5 = 0\\\\\n",
    "       -600u_3 - 400u_4 + 0R_1 + -R_2 + 0R_5 = 0\\\\\n",
    "       1200u_3 - 400u_4 + 0R_1 + 0R_2 + 0R_5 = 1000\\\\\n",
    "       -400u_3 + 1100u_4 + 0R_1 + 0R_2 - 0R_5 = 0\\\\\n",
    "        0u_3 -300u_4 + 0R_1 + 0R_2 - R_5 = 0\n",
    "    \\end{cases}\n",
    "\\end{equation} $\n",
    "\n",
    "Da algebra linear, verifica-se que pode-se resolver um sistema de 4 equaçoes com 4 variáveis com uma matriz de seus coeficientes:\n",
    "\n",
    "$$\n",
    "\\begin{bmatrix}\n",
    "    -200 & 0 & -1 & 0 & 0\\\\\n",
    "    -600 & -400 &  0 & -1 & 0\\\\\n",
    "    1200 & -400 & 0 & 0 & 0\\\\\n",
    "    -400 & 1100 & 0 & 0 & 0\\\\\n",
    "      0  &  -300 & 0 & 0 & -1\n",
    "\\end{bmatrix}\n",
    "\\begin{bmatrix}\n",
    "    u_3\\\\\n",
    "    u_4\\\\\n",
    "    R_1\\\\\n",
    "    R_2\\\\\n",
    "    R_5\n",
    "\\end{bmatrix}\n",
    "=\n",
    "\\begin{bmatrix}\n",
    "    0\\\\\n",
    "    0\\\\\n",
    "    1000\\\\\n",
    "    0\\\\\n",
    "    0\n",
    "\\end{bmatrix}\n",
    "$$\n",
    "\n",
    "Existe uma biblioteca no python dedicada a resolver equações organizadas na forma matricial acima. No pacote numpy, módulo de algebra linear. O código a seguir criará os vetores da matriz acima e executará o módulo de algebra linear do numpy, já entregando os resultados."
   ]
  },
  {
   "cell_type": "code",
   "execution_count": 2,
   "metadata": {},
   "outputs": [],
   "source": [
    "import numpy as np\n",
    "\n",
    "# coeffs de coeficientes\n",
    "coeffs = [[-200,    0, -1,  0,  0],\n",
    "          [-600, -400,  0, -1,  0],\n",
    "          [1200, -400,  0,  0,  0],\n",
    "          [-400, 1100,  0,  0,  0],\n",
    "          [   0, -300, -0,  0, -1]]\n",
    "\n",
    "# image de conjunto imagem de uma funç~ao\n",
    "image = [0, 0, 1000, 0, 0]\n",
    "\n",
    "# Transformando os vetores nativos python em vetores numpy\n",
    "coeffs = np.array(coeffs)\n",
    "image = np.array(image)"
   ]
  },
  {
   "cell_type": "code",
   "execution_count": 3,
   "metadata": {},
   "outputs": [
    {
     "data": {
      "text/plain": [
       "(array([[-200,    0,   -1,    0,    0],\n",
       "        [-600, -400,    0,   -1,    0],\n",
       "        [1200, -400,    0,    0,    0],\n",
       "        [-400, 1100,    0,    0,    0],\n",
       "        [   0, -300,    0,    0,   -1]]),\n",
       " array([   0,    0, 1000,    0,    0]))"
      ]
     },
     "execution_count": 3,
     "metadata": {},
     "output_type": "execute_result"
    }
   ],
   "source": [
    "# Visualizando o conteúdo dos vetores\n",
    "\n",
    "coeffs, image"
   ]
  },
  {
   "cell_type": "code",
   "execution_count": 4,
   "metadata": {},
   "outputs": [
    {
     "name": "stdout",
     "output_type": "stream",
     "text": [
      "Os resultados são: u3 = 9.48e-01mm, u4 = 3.45e-01mm, f1 = -1.90e+02N, f2 = -7.07e+02N e f5 = -1.03e+02N\n"
     ]
    }
   ],
   "source": [
    "# Resolvendo ele com o módulo de álgebra linear\n",
    "\n",
    "variaveis = np.linalg.solve(coeffs, image)\n",
    "\n",
    "print('Os resultados são: u3 = %.2emm, u4 = %.2emm, f1 = %.2eN, f2 = %.2eN e f5 = %.2eN' % tuple(variaveis))"
   ]
  },
  {
   "cell_type": "code",
   "execution_count": null,
   "metadata": {},
   "outputs": [],
   "source": []
  }
 ],
 "metadata": {
  "kernelspec": {
   "display_name": "Python 3",
   "language": "python",
   "name": "python3"
  },
  "language_info": {
   "codemirror_mode": {
    "name": "ipython",
    "version": 3
   },
   "file_extension": ".py",
   "mimetype": "text/x-python",
   "name": "python",
   "nbconvert_exporter": "python",
   "pygments_lexer": "ipython3",
   "version": "3.7.4"
  }
 },
 "nbformat": 4,
 "nbformat_minor": 4
}
