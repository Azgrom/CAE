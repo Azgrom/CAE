{
 "cells": [
  {
   "cell_type": "markdown",
   "metadata": {},
   "source": [
    "# Exercício 5\n",
    "\n",
    "**Aluno:** Rafael Lúcio Negrão Cordeiro<br/>\n",
    "**Matrícula:** 201310323<br/>\n",
    "**Disciplina:** CET961 - Engenharia Assistida por Computador"
   ]
  },
  {
   "cell_type": "code",
   "execution_count": null,
   "metadata": {},
   "outputs": [],
   "source": [
    "k1 = 50 # N / cm\n",
    "k2 = 60 # N / cm\n",
    "\n",
    "f1 = 50 # N\n",
    "\n",
    "u3  = f2 = 0"
   ]
  },
  {
   "cell_type": "markdown",
   "metadata": {},
   "source": [
    "#### Compondo o sistema na notaçao matricial $[K^{(g)}]\\{U^{(g)}\\} = \\{F^{(g)}\\}$, temos:\n",
    "\n",
    "$$\n",
    "\\overbrace{\n",
    "    \\begin{bmatrix}\n",
    "         -k_1 & k_1 & 0\\\\\n",
    "         k_1 & k_1 - k_2 & k_2\\\\\n",
    "        0 & k_2 & -k_2\n",
    "    \\end{bmatrix}\n",
    "}^{[K^{(g)}]}\n",
    "\\overbrace{\n",
    "    \\begin{Bmatrix}\n",
    "        u_1\\\\\n",
    "        u_2\\\\\n",
    "        u_3\n",
    "    \\end{Bmatrix}\n",
    "}^{\\{U^{(g)}\\}}=\\overbrace{\n",
    "    \\begin{Bmatrix}\n",
    "        f_1\\\\\n",
    "        f_2\\\\\n",
    "        f_3\n",
    "    \\end{Bmatrix}\n",
    "}^{\\{F^{(g)}\\}}\n",
    "$$\n",
    "Onde, considerando que queremos apenas os deslocamentos dos corpos e as forças nas paredes, temos:\n",
    "$$\n",
    "\\begin{bmatrix}\n",
    "    -50 & 50 & 0\\\\\n",
    "    50 & -10 & 60\\\\\n",
    "    0 &  60 & -60\n",
    "\\end{bmatrix}\n",
    "\\begin{Bmatrix}\n",
    "    u_1\\\\\n",
    "    u_2\\\\\n",
    "    0\n",
    "\\end{Bmatrix}=\\begin{Bmatrix}\n",
    "    50\\\\\n",
    "    0\\\\\n",
    "    R_3\n",
    "\\end{Bmatrix}\n",
    "$$"
   ]
  },
  {
   "cell_type": "markdown",
   "metadata": {},
   "source": [
    "#### Ao executar as multiplicações das matrizes, temos:\n",
    "$$\n",
    "\\begin{equation}\n",
    "    \\begin{cases}\n",
    "         -50u_1 + 50u_2= 50\\\\\n",
    "         50u_1 - 10u_2= 0\\\\\n",
    "         60u_2 = R_3\n",
    "    \\end{cases}\n",
    "\\end{equation}\n",
    "$$\n",
    "\n",
    "Se isolarmos todas as variáveis para o lado esquerdo da equaçao, teremos: $ \\begin{equation}\n",
    "    \\begin{cases}\n",
    "        -50u_1 - 50u_2 + 0R_3 = 50\\\\\n",
    "        50u_1 - 10u_2 + 0R_3 = 0\\\\\n",
    "         0u_1 + 60u_2 - 1R_3 = 0\n",
    "    \\end{cases}\n",
    "\\end{equation} $\n",
    "\n",
    "Da algebra linear, verifica-se que pode-se resolver um sistema de 2 equaçoes com 2 variáveis com uma matriz de seus coeficientes:\n",
    "\n",
    "$$\n",
    "\\begin{bmatrix}\n",
    "    -50 & 50 & 0\\\\\n",
    "    50 & -10 & 0\\\\\n",
    "    0  & 60 & -1\n",
    "\\end{bmatrix}\n",
    "\\begin{bmatrix}\n",
    "    u_1\\\\\n",
    "    u_2\\\\\n",
    "    u_3\n",
    "\\end{bmatrix}\n",
    "=\n",
    "\\begin{bmatrix}\n",
    "    50\\\\\n",
    "    0\\\\\n",
    "    1\n",
    "\\end{bmatrix}\n",
    "$$\n",
    "\n",
    "Existe uma biblioteca no python dedicada a resolver equações organizadas na forma matricial acima. No pacote numpy, módulo de algebra linear. O código a seguir criará os vetores da matriz acima e executará o módulo de algebra linear do numpy, já entregando os resultados."
   ]
  },
  {
   "cell_type": "code",
   "execution_count": 2,
   "metadata": {},
   "outputs": [],
   "source": [
    "import numpy as np\n",
    "\n",
    "# coeffs de coeficientes\n",
    "coeffs = [[-50, 50, 0],\n",
    "          [50, -10, 0],\n",
    "          [0,   60,-1]]\n",
    "\n",
    "# image de conjunto imagem de uma funç~ao\n",
    "image = [50, 0, 0]\n",
    "\n",
    "# Transformando os vetores nativos python em vetores numpy\n",
    "coeffs = np.array(coeffs)\n",
    "image = np.array(image)"
   ]
  },
  {
   "cell_type": "code",
   "execution_count": 3,
   "metadata": {},
   "outputs": [
    {
     "data": {
      "text/plain": [
       "(array([[-50,  50,   0],\n",
       "        [ 50, -10,   0],\n",
       "        [  0,  60,  -1]]), array([50,  0,  0]))"
      ]
     },
     "execution_count": 3,
     "metadata": {},
     "output_type": "execute_result"
    }
   ],
   "source": [
    "# Visualizando o conteúdo dos vetores\n",
    "\n",
    "coeffs, image"
   ]
  },
  {
   "cell_type": "code",
   "execution_count": 4,
   "metadata": {},
   "outputs": [
    {
     "name": "stdout",
     "output_type": "stream",
     "text": [
      "Os resultados são: u1 = 2.50e-01cm, u2 = 1.25e+00cm, R3 = 7.500000e+01N\n"
     ]
    }
   ],
   "source": [
    "# Resolvendo ele com o módulo de álgebra linear\n",
    "\n",
    "variaveis = np.linalg.solve(coeffs, image)\n",
    "\n",
    "print('Os resultados são: u1 = %.2ecm, u2 = %.2ecm, R3 = %2eN' % tuple(variaveis))"
   ]
  },
  {
   "cell_type": "code",
   "execution_count": null,
   "metadata": {},
   "outputs": [],
   "source": []
  }
 ],
 "metadata": {
  "kernelspec": {
   "display_name": "Python 3",
   "language": "python",
   "name": "python3"
  },
  "language_info": {
   "codemirror_mode": {
    "name": "ipython",
    "version": 3
   },
   "file_extension": ".py",
   "mimetype": "text/x-python",
   "name": "python",
   "nbconvert_exporter": "python",
   "pygments_lexer": "ipython3",
   "version": "3.7.4"
  }
 },
 "nbformat": 4,
 "nbformat_minor": 4
}
