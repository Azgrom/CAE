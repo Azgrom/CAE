{
 "cells": [
  {
   "cell_type": "markdown",
   "metadata": {},
   "source": [
    "# Exercício 7\n",
    "\n",
    "**Aluno:** Rafael Lúcio Negrão Cordeiro<br/>\n",
    "**Matrícula:** 201310323<br/>\n",
    "**Disciplina:** CET961 - Engenharia Assistida por Computador"
   ]
  },
  {
   "cell_type": "code",
   "execution_count": 1,
   "metadata": {},
   "outputs": [],
   "source": [
    "k1 = 200 # N / cm\n",
    "k2 = 300 # N / cm\n",
    "\n",
    "f2 = 10 # N\n",
    "\n",
    "u1 = u3 = 0"
   ]
  },
  {
   "cell_type": "markdown",
   "metadata": {},
   "source": [
    "#### Compondo o sistema na notaçao matricial $[K^{(g)}]\\{U^{(g)}\\} = \\{F^{(g)}\\}$, temos:\n",
    "\n",
    "$$\n",
    "\\overbrace{\n",
    "    \\begin{bmatrix}\n",
    "        -k_1 & k_1 & 0\\\\\n",
    "        k_1 & k_1 - k_2 & k_2\\\\\n",
    "        0 & k_2 & -k_2\\\\\n",
    "    \\end{bmatrix}\n",
    "}^{[K^{(g)}]}\n",
    "\\overbrace{\n",
    "    \\begin{Bmatrix}\n",
    "        u_1\\\\\n",
    "        u_2\\\\\n",
    "        u_3\\\\\n",
    "    \\end{Bmatrix}\n",
    "}^{\\{U^{(g)}\\}}=\\overbrace{\n",
    "    \\begin{Bmatrix}\n",
    "        f_1\\\\\n",
    "        f_2\\\\\n",
    "        f_3\\\\\n",
    "    \\end{Bmatrix}\n",
    "}^{\\{F^{(g)}\\}}\n",
    "$$\n",
    "Onde, considerando que queremos apenas os deslocamentos dos corpos e as forças nas paredes, temos:\n",
    "$$\n",
    "\\begin{bmatrix}\n",
    "    -200 & 200 & 0\\\\\n",
    "    200 & -100 & 300\\\\\n",
    "    0 & 300 & -300\\\\\n",
    "\\end{bmatrix}\n",
    "\\begin{Bmatrix}\n",
    "    0\\\\\n",
    "    u_2\\\\\n",
    "    0\\\\\n",
    "\\end{Bmatrix}=\\begin{Bmatrix}\n",
    "    1\\\\\n",
    "    10\\\\\n",
    "    1\\\\\n",
    "\\end{Bmatrix}\n",
    "$$"
   ]
  },
  {
   "cell_type": "markdown",
   "metadata": {},
   "source": [
    "#### Ao executar as multiplicações das matrizes, temos:\n",
    "$$\n",
    "\\begin{equation}\n",
    "    \\begin{cases}\n",
    "         200u_2 = R_1\\\\\n",
    "        -100u_2 = 10\\\\\n",
    "         300u_2 = R_3\\\\\n",
    "    \\end{cases}\n",
    "\\end{equation}\n",
    "$$\n",
    "\n",
    "Se isolarmos todas as variáveis para o lado esquerdo da equaçao, teremos: $ \\begin{equation}\n",
    "    \\begin{cases}\n",
    "         200u_2 - R_1 + 0R_3= 0\\\\\n",
    "        -100u_2 + 0R_1 + 0R_3= 10\\\\\n",
    "         300u_2 + 0R_1 - R_3 = 0\\\\\n",
    "    \\end{cases}\n",
    "\\end{equation} $\n",
    "\n",
    "Da algebra linear, verifica-se que pode-se resolver um sistema de 2 equaçoes com 2 variáveis com uma matriz de seus coeficientes:\n",
    "\n",
    "$$\n",
    "\\begin{bmatrix}\n",
    "    -200 & -1 & 0\\\\\n",
    "    -100 &  0 & 0\\\\\n",
    "     300 &  0 & -1\\\\\n",
    "\\end{bmatrix}\n",
    "\\begin{bmatrix}\n",
    "    R_1\\\\\n",
    "    u_2\\\\\n",
    "    R_3\\\\\n",
    "\\end{bmatrix}\n",
    "=\n",
    "\\begin{bmatrix}\n",
    "    1\\\\\n",
    "    10\\\\\n",
    "    1\\\\\n",
    "\\end{bmatrix}\n",
    "$$\n",
    "\n",
    "Existe uma biblioteca no python dedicada a resolver equações organizadas na forma matricial acima. No pacote numpy, módulo de algebra linear. O código a seguir criará os vetores da matriz acima e executará o módulo de algebra linear do numpy, já entregando os resultados."
   ]
  },
  {
   "cell_type": "code",
   "execution_count": 12,
   "metadata": {},
   "outputs": [],
   "source": [
    "import numpy as np\n",
    "\n",
    "# coeffs de coeficientes\n",
    "coeffs = [[-200, -1, 0],\n",
    "          [-100,  0, 0],\n",
    "          [300,   0,-1]]\n",
    "\n",
    "# image de conjunto imagem de uma funç~ao\n",
    "image = [1, 10, 1]\n",
    "\n",
    "# Transformando os vetores nativos python em vetores numpy\n",
    "coeffs = np.array(coeffs)\n",
    "image = np.array(image)"
   ]
  },
  {
   "cell_type": "code",
   "execution_count": 13,
   "metadata": {},
   "outputs": [
    {
     "data": {
      "text/plain": [
       "(array([[-200,   -1,    0],\n",
       "        [-100,    0,    0],\n",
       "        [ 300,    0,   -1]]), array([ 1, 10,  1]))"
      ]
     },
     "execution_count": 13,
     "metadata": {},
     "output_type": "execute_result"
    }
   ],
   "source": [
    "# Visualizando o conteúdo dos vetores\n",
    "\n",
    "coeffs, image"
   ]
  },
  {
   "cell_type": "code",
   "execution_count": 15,
   "metadata": {},
   "outputs": [
    {
     "name": "stdout",
     "output_type": "stream",
     "text": [
      "Os resultados são: R1 = -0.10N, u2 = 19.000000cm, R3 = -31.00N\n"
     ]
    }
   ],
   "source": [
    "# Resolvendo ele com o módulo de álgebra linear\n",
    "\n",
    "variaveis = np.linalg.solve(coeffs, image)\n",
    "\n",
    "print('Os resultados são: R1 = %.2fN, u2 = %2fcm, R3 = %.2fN' % tuple(variaveis))"
   ]
  },
  {
   "cell_type": "code",
   "execution_count": null,
   "metadata": {},
   "outputs": [],
   "source": []
  }
 ],
 "metadata": {
  "kernelspec": {
   "display_name": "Python 3",
   "language": "python",
   "name": "python3"
  },
  "language_info": {
   "codemirror_mode": {
    "name": "ipython",
    "version": 3
   },
   "file_extension": ".py",
   "mimetype": "text/x-python",
   "name": "python",
   "nbconvert_exporter": "python",
   "pygments_lexer": "ipython3",
   "version": "3.7.4"
  }
 },
 "nbformat": 4,
 "nbformat_minor": 4
}
